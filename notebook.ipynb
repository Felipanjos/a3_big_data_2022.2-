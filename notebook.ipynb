{
 "cells": [
  {
   "cell_type": "markdown",
   "metadata": {},
   "source": [
    "### Link do dataset"
   ]
  },
  {
   "cell_type": "code",
   "execution_count": 165,
   "metadata": {},
   "outputs": [],
   "source": [
    "# https://www.kaggle.com/datasets/saisaathvik/house-rent-prices-of-metropolitan-cities-in-india?select=Kolkata_rent.csv"
   ]
  },
  {
   "cell_type": "markdown",
   "metadata": {},
   "source": [
    "### Descrição dos procedimentos de coleta de dados e significado dos atributos"
   ]
  },
  {
   "cell_type": "code",
   "execution_count": 166,
   "metadata": {},
   "outputs": [],
   "source": [
    "# Os dados do dataset foram extraídos através do método Web-Scraping através de uma extensão do Google Chorme, chamada de Instant Data Scraper.\n",
    "# Link: https://chrome.google.com/webstore/detail/instant-data-scraper/ofaokhiedipichpaobibbnahnkdoiiah"
   ]
  },
  {
   "cell_type": "code",
   "execution_count": 167,
   "metadata": {},
   "outputs": [],
   "source": [
    "# O conteúdo do dataset é formado pelos seguintes atributos:\n",
    "#       * Tipo de vendedor (seller_type);\n",
    "#       * Numero de Quartos (bedroom);\n",
    "#       * Tipo do layout (layout_type);\n",
    "#       * Tipo da propriedade (property_type);\n",
    "#       * Localização (location);\n",
    "#       * Preço (price);\n",
    "#       * Area (area);\n",
    "#       * Tipo de mobilia (furnish_type);\n",
    "#       * Numero de Banheiros (bathroom)."
   ]
  },
  {
   "cell_type": "code",
   "execution_count": 168,
   "metadata": {},
   "outputs": [],
   "source": [
    "# Dataset ja vem por padrão sem dados duplicados.\n",
    "# Caso houvesse a necessidade de restringir os dados duplicados seria usada a função \"pd.dataframe.drop_duplicates()\", passando como parametro o nome da coluns e axis=1\n",
    "# Então, neste caso específico, não faz sentido remover os \"valores duplicados\" pois cada apartamento é único.\n"
   ]
  },
  {
   "cell_type": "markdown",
   "metadata": {},
   "source": [
    "## Dependências e carregamento do Dataframe"
   ]
  },
  {
   "cell_type": "code",
   "execution_count": 169,
   "metadata": {},
   "outputs": [],
   "source": [
    "import pandas as pd\n",
    "import numpy as np\n",
    "import statistics as st\n",
    "import pandas as pd\n",
    "import numpy as np\n",
    "from mlxtend.frequent_patterns import apriori, association_rules\n",
    "from mlxtend.preprocessing import TransactionEncoder"
   ]
  },
  {
   "cell_type": "code",
   "execution_count": 170,
   "metadata": {
    "tags": []
   },
   "outputs": [],
   "source": [
    "chennai_df = pd.read_csv('Chennai.csv')\n",
    "chennai_df['dataset'] = 'Chennai'\n",
    "\n",
    "hyderabad_df = pd.read_csv('Hyderabad.csv')\n",
    "hyderabad_df['dataset'] = 'Hydebarad'\n",
    "\n",
    "kolkata_df = pd.read_csv('Kolkata.csv')\n",
    "kolkata_df['dataset'] = 'Kolkata'"
   ]
  },
  {
   "cell_type": "code",
   "execution_count": 171,
   "metadata": {},
   "outputs": [],
   "source": [
    "#chennai_df.head()"
   ]
  },
  {
   "cell_type": "code",
   "execution_count": 172,
   "metadata": {},
   "outputs": [],
   "source": [
    "#hyderabad_df.head()"
   ]
  },
  {
   "cell_type": "code",
   "execution_count": 173,
   "metadata": {},
   "outputs": [],
   "source": [
    "#kolkata_df.head()"
   ]
  },
  {
   "cell_type": "code",
   "execution_count": 174,
   "metadata": {},
   "outputs": [],
   "source": [
    "df = pd.concat([chennai_df, hyderabad_df, kolkata_df])"
   ]
  },
  {
   "cell_type": "markdown",
   "metadata": {},
   "source": [
    "### Tratamento Inicial"
   ]
  },
  {
   "cell_type": "code",
   "execution_count": 175,
   "metadata": {},
   "outputs": [],
   "source": [
    "# Foi retirada a palavra 'bathrooms' da coluna bathroom para ser possível a contabilização dos banheiros,\n",
    "# em seguida é retirada as virgulas da coluna price para em seguida converter-la para 'float64' e assim ser possível a realização de calculas e demonstração de gráficos"
   ]
  },
  {
   "cell_type": "code",
   "execution_count": 176,
   "metadata": {},
   "outputs": [],
   "source": [
    "df['bathroom'] = df['bathroom'].str.replace('bathrooms', '')"
   ]
  },
  {
   "cell_type": "code",
   "execution_count": 177,
   "metadata": {},
   "outputs": [],
   "source": [
    "df['price'] = df['price'].str.replace(',', '')\n",
    "df['price'] = df['price'].astype(np.float64)"
   ]
  },
  {
   "cell_type": "code",
   "execution_count": null,
   "metadata": {},
   "outputs": [],
   "source": [
    "index = df.loc[df['price'] <= 8].index\n",
    "df.drop(index, inplace=True)"
   ]
  },
  {
   "cell_type": "markdown",
   "metadata": {},
   "source": [
    "## Hipóteses"
   ]
  },
  {
   "cell_type": "code",
   "execution_count": 178,
   "metadata": {},
   "outputs": [
    {
     "name": "stderr",
     "output_type": "stream",
     "text": [
      "C:\\Users\\anjos\\AppData\\Local\\Temp\\ipykernel_30676\\441180871.py:1: FutureWarning: The default value of numeric_only in DataFrame.corr is deprecated. In a future version, it will default to False. Select only valid columns or specify the value of numeric_only to silence this warning.\n",
      "  df.corr()['price']\n"
     ]
    },
    {
     "data": {
      "text/plain": [
       "bedroom    0.504219\n",
       "price      1.000000\n",
       "area       0.423670\n",
       "Name: price, dtype: float64"
      ]
     },
     "execution_count": 178,
     "metadata": {},
     "output_type": "execute_result"
    }
   ],
   "source": [
    "df.corr()['price']"
   ]
  },
  {
   "cell_type": "code",
   "execution_count": 179,
   "metadata": {},
   "outputs": [],
   "source": [
    "# Com base no resultado do cálculo do método de Correlação de Pearson, que demosntra a relação entre a coluna escolhida, neste caso preço (price), e as demais colunas é possível \n",
    "# observer que o preço do apartamento está altamente relacionado à quantidade de banheiros e em seguida à area do apartamento."
   ]
  },
  {
   "cell_type": "markdown",
   "metadata": {},
   "source": [
    "## Tratamento de dados ausentes"
   ]
  },
  {
   "cell_type": "code",
   "execution_count": 180,
   "metadata": {},
   "outputs": [
    {
     "name": "stdout",
     "output_type": "stream",
     "text": [
      "<class 'pandas.core.frame.DataFrame'>\n",
      "Int64Index: 29940 entries, 0 to 9899\n",
      "Data columns (total 10 columns):\n",
      " #   Column         Non-Null Count  Dtype  \n",
      "---  ------         --------------  -----  \n",
      " 0   seller_type    29456 non-null  object \n",
      " 1   bedroom        29457 non-null  float64\n",
      " 2   layout_type    29457 non-null  object \n",
      " 3   property_type  29457 non-null  object \n",
      " 4   locality       29457 non-null  object \n",
      " 5   price          29457 non-null  float64\n",
      " 6   area           29457 non-null  float64\n",
      " 7   furnish_type   29457 non-null  object \n",
      " 8   bathroom       28945 non-null  object \n",
      " 9   dataset        29940 non-null  object \n",
      "dtypes: float64(3), object(7)\n",
      "memory usage: 2.5+ MB\n"
     ]
    }
   ],
   "source": [
    "df.info()"
   ]
  },
  {
   "cell_type": "code",
   "execution_count": 181,
   "metadata": {},
   "outputs": [],
   "source": [
    "# A estratégia escolhida para tratar dados ausentes foi excluir o registro, pois devido a quentidade de amostras a quantidade de registros excluidos é irrelevante"
   ]
  },
  {
   "cell_type": "code",
   "execution_count": 182,
   "metadata": {},
   "outputs": [],
   "source": [
    "df.dropna(inplace=True)"
   ]
  },
  {
   "cell_type": "markdown",
   "metadata": {},
   "source": [
    "## Análise numérica de estatísticas descritivas"
   ]
  },
  {
   "cell_type": "markdown",
   "metadata": {},
   "source": [
    "##### Este método retorna valores da media, moda, mediana, desvio padrão e quartis do preço para cada atribudo escolhido da coluna de base"
   ]
  },
  {
   "cell_type": "code",
   "execution_count": 183,
   "metadata": {},
   "outputs": [],
   "source": [
    "def analise_preco(coluna):\n",
    "    global df\n",
    "    \n",
    "    dct_retorno = {}    \n",
    "    s_coluna = df[coluna].value_counts()   \n",
    "    \n",
    "    for i in range(len(s_coluna)):\n",
    "        dct_sts = {}\n",
    "        index = s_coluna.index[i]\n",
    "        \n",
    "        \n",
    "        preco = df[df[coluna] == index]['price']\n",
    "        \n",
    "        media = st.mean(preco)\n",
    "        moda = st.mode(preco)\n",
    "        mediana = st.median(preco)\n",
    "        desvio_padrao = st.stdev(preco)\n",
    "        quartis = st.quantiles(preco)\n",
    "                \n",
    "        dct_sts['MEDIA'] = round(media,2)\n",
    "        dct_sts['MODA'] = round(moda,2)\n",
    "        dct_sts['MEDIANA'] = round(mediana,2)\n",
    "        dct_sts['DESVIO PADRAO'] = round(desvio_padrao,2)\n",
    "        dct_sts['QUARTIS'] = quartis  \n",
    "        \n",
    "        #dct_retorno[index] = (dct_sts,preco) \n",
    "        dct_retorno[index] = dct_sts \n",
    "        \n",
    "    \n",
    "    return dct_retorno"
   ]
  },
  {
   "cell_type": "markdown",
   "metadata": {},
   "source": [
    "##### Este método retorna valores da media, moda, mediana, desvio padrão e quartis da coluna de base"
   ]
  },
  {
   "cell_type": "code",
   "execution_count": 184,
   "metadata": {},
   "outputs": [],
   "source": [
    "def analise_desc_num(coluna):\n",
    "    global df\n",
    "    \n",
    "    dct_retorno = {}    \n",
    "    s_coluna = df[coluna].value_counts()\n",
    "      \n",
    "    media = st.mean(s_coluna)\n",
    "    moda = st.mode(s_coluna)\n",
    "    mediana = st.median(s_coluna)\n",
    "    desvio_padrao = st.stdev(s_coluna)\n",
    "    quartis = st.quantiles(s_coluna)\n",
    "    \n",
    "    dct_retorno['MEDIA'] = media\n",
    "    dct_retorno['MODA'] = moda\n",
    "    dct_retorno['MEDIANA'] = mediana\n",
    "    dct_retorno['DESVIO PADRAO'] = desvio_padrao\n",
    "    dct_retorno['QUARTIS'] = quartis    \n",
    "    \n",
    "    return dct_retorno\n",
    "    "
   ]
  },
  {
   "cell_type": "markdown",
   "metadata": {},
   "source": [
    "### Análise individual dos atributos das colunas descritivas"
   ]
  },
  {
   "cell_type": "markdown",
   "metadata": {},
   "source": [
    "#### Coluna - 'seller_type'"
   ]
  },
  {
   "cell_type": "code",
   "execution_count": 185,
   "metadata": {},
   "outputs": [
    {
     "name": "stdout",
     "output_type": "stream",
     "text": [
      "{'MEDIA': 9648, 'MODA': 15863, 'MEDIANA': 12938, 'DESVIO PADRAO': 8360.482940596195, 'QUARTIS': [143.0, 12938.0, 15863.0]}\n"
     ]
    },
    {
     "data": {
      "text/plain": [
       "<AxesSubplot: >"
      ]
     },
     "execution_count": 185,
     "metadata": {},
     "output_type": "execute_result"
    },
    {
     "data": {
      "image/png": "[encoded data removed]",
      "text/plain": [
       "<Figure size 640x480 with 1 Axes>"
      ]
     },
     "metadata": {},
     "output_type": "display_data"
    }
   ],
   "source": [
    "coluna_analise_seller_type = 'seller_type'\n",
    "\n",
    "statis = analise_desc_num(coluna_analise_seller_type)\n",
    "\n",
    "\n",
    "print(statis)\n",
    "df[coluna_analise_seller_type].value_counts().plot(kind='bar')"
   ]
  },
  {
   "cell_type": "markdown",
   "metadata": {},
   "source": [
    "#### Coluna - 'layout_type'"
   ]
  },
  {
   "cell_type": "code",
   "execution_count": 186,
   "metadata": {},
   "outputs": [
    {
     "name": "stdout",
     "output_type": "stream",
     "text": [
      "{'MEDIA': 14472, 'MODA': 27617, 'MEDIANA': 14472.0, 'DESVIO PADRAO': 18589.837277394334, 'QUARTIS': [-5245.5, 14472.0, 34189.5]}\n"
     ]
    },
    {
     "data": {
      "text/plain": [
       "<AxesSubplot: >"
      ]
     },
     "execution_count": 186,
     "metadata": {},
     "output_type": "execute_result"
    },
    {
     "data": {
      "image/png": "[encoded data removed]",
      "text/plain": [
       "<Figure size 640x480 with 1 Axes>"
      ]
     },
     "metadata": {},
     "output_type": "display_data"
    }
   ],
   "source": [
    "coluna_analise_layout_type = 'layout_type'\n",
    "\n",
    "statis = analise_desc_num(coluna_analise_layout_type)\n",
    "\n",
    "\n",
    "print(statis)\n",
    "df[coluna_analise_layout_type].value_counts().plot(kind='bar')"
   ]
  },
  {
   "cell_type": "markdown",
   "metadata": {},
   "source": [
    "#### Coluna - 'property_type'"
   ]
  },
  {
   "cell_type": "code",
   "execution_count": 187,
   "metadata": {},
   "outputs": [
    {
     "name": "stdout",
     "output_type": "stream",
     "text": [
      "{'MEDIA': 4824, 'MODA': 19549, 'MEDIANA': 2359.5, 'DESVIO PADRAO': 7400.188592191418, 'QUARTIS': [333.25, 2359.5, 8053.0]}\n"
     ]
    },
    {
     "data": {
      "text/plain": [
       "<AxesSubplot: >"
      ]
     },
     "execution_count": 187,
     "metadata": {},
     "output_type": "execute_result"
    },
    {
     "data": {
      "image/png": "[encoded data removed]",
      "text/plain": [
       "<Figure size 640x480 with 1 Axes>"
      ]
     },
     "metadata": {},
     "output_type": "display_data"
    }
   ],
   "source": [
    "coluna_analise_property_type = 'property_type'\n",
    "\n",
    "statis = analise_desc_num(coluna_analise_property_type)\n",
    "\n",
    "\n",
    "print(statis)\n",
    "df[coluna_analise_property_type].value_counts().plot(kind='bar')"
   ]
  },
  {
   "cell_type": "markdown",
   "metadata": {},
   "source": [
    "### Analise do preco por atributo da coluna descritiva"
   ]
  },
  {
   "cell_type": "markdown",
   "metadata": {},
   "source": [
    "#### Coluna - 'bathroom' x 'price'"
   ]
  },
  {
   "cell_type": "code",
   "execution_count": 188,
   "metadata": {},
   "outputs": [
    {
     "data": {
      "text/plain": [
       "<AxesSubplot: xlabel='price', ylabel='bathroom'>"
      ]
     },
     "execution_count": 188,
     "metadata": {},
     "output_type": "execute_result"
    },
    {
     "data": {
      "image/png": "[encoded data removed]",
      "text/plain": [
       "<Figure size 640x480 with 1 Axes>"
      ]
     },
     "metadata": {},
     "output_type": "display_data"
    }
   ],
   "source": [
    "coluna_analise_banheiro_x_preco = 'bathroom'\n",
    "\n",
    "df.plot(kind='scatter', x='price', y=coluna_analise_banheiro_x_preco)"
   ]
  },
  {
   "cell_type": "markdown",
   "metadata": {},
   "source": [
    "#### Coluna - 'area' x 'price'"
   ]
  },
  {
   "cell_type": "code",
   "execution_count": 190,
   "metadata": {},
   "outputs": [
    {
     "data": {
      "text/plain": [
       "<AxesSubplot: xlabel='price', ylabel='area'>"
      ]
     },
     "execution_count": 190,
     "metadata": {},
     "output_type": "execute_result"
    },
    {
     "data": {
      "image/png": "[encoded data removed]",
      "text/plain": [
       "<Figure size 640x480 with 1 Axes>"
      ]
     },
     "metadata": {},
     "output_type": "display_data"
    }
   ],
   "source": [
    "coluna_analise_area_x_preco = 'area'\n",
    "\n",
    "df.plot(kind='scatter', x='price', y=coluna_analise_area_x_preco)"
   ]
  },
  {
   "cell_type": "markdown",
   "metadata": {},
   "source": [
    "#### Coluna - 'seller_type' x 'price'"
   ]
  },
  {
   "cell_type": "code",
   "execution_count": 192,
   "metadata": {},
   "outputs": [
    {
     "name": "stdout",
     "output_type": "stream",
     "text": [
      "{'AGENT': {'MEDIA': 20560.18, 'MODA': 15000.0, 'MEDIANA': 17000.0, 'DESVIO PADRAO': 14850.69, 'QUARTIS': [10000.0, 17000.0, 25000.0]}, 'OWNER': {'MEDIA': 14225.37, 'MODA': 10000.0, 'MEDIANA': 12000.0, 'DESVIO PADRAO': 9823.15, 'QUARTIS': [8000.0, 12000.0, 17000.0]}, 'BUILDER': {'MEDIA': 27834.4, 'MODA': 30000.0, 'MEDIANA': 27000.0, 'DESVIO PADRAO': 18661.92, 'QUARTIS': [10500.0, 27000.0, 42000.0]}}\n"
     ]
    },
    {
     "data": {
      "text/plain": [
       "<AxesSubplot: xlabel='price', ylabel='seller_type'>"
      ]
     },
     "execution_count": 192,
     "metadata": {},
     "output_type": "execute_result"
    },
    {
     "data": {
      "image/png": "[encoded data removed]",
      "text/plain": [
       "<Figure size 640x480 with 1 Axes>"
      ]
     },
     "metadata": {},
     "output_type": "display_data"
    }
   ],
   "source": [
    "coluna_analise_seller_type_x_preco = 'seller_type'\n",
    "\n",
    "statis = analise_preco(coluna_analise_seller_type_x_preco)\n",
    "print(statis)\n",
    "\n",
    "\n",
    "df.plot(kind='scatter', x='price', y=coluna_analise_seller_type_x_preco)\n"
   ]
  },
  {
   "cell_type": "code",
   "execution_count": 193,
   "metadata": {},
   "outputs": [
    {
     "data": {
      "text/plain": [
       "<AxesSubplot: ylabel='price'>"
      ]
     },
     "execution_count": 193,
     "metadata": {},
     "output_type": "execute_result"
    },
    {
     "data": {
      "image/png": "[encoded data removed]",
      "text/plain": [
       "<Figure size 1500x500 with 1 Axes>"
      ]
     },
     "metadata": {},
     "output_type": "display_data"
    }
   ],
   "source": [
    "df.groupby(coluna_analise_seller_type_x_preco)['price'].mean().plot(kind='pie', rot=0, figsize=(15,5))"
   ]
  },
  {
   "cell_type": "markdown",
   "metadata": {},
   "source": [
    "#### Coluna - 'layout_type' x 'price'"
   ]
  },
  {
   "cell_type": "code",
   "execution_count": 194,
   "metadata": {},
   "outputs": [
    {
     "name": "stdout",
     "output_type": "stream",
     "text": [
      "{'BHK': {'MEDIA': 18251.15, 'MODA': 15000.0, 'MEDIANA': 15000.0, 'DESVIO PADRAO': 13312.44, 'QUARTIS': [10000.0, 15000.0, 22000.0]}, 'RK': {'MEDIA': 7635.44, 'MODA': 5000.0, 'MEDIANA': 6000.0, 'DESVIO PADRAO': 6713.66, 'QUARTIS': [5000.0, 6000.0, 8000.0]}}\n"
     ]
    },
    {
     "data": {
      "text/plain": [
       "<AxesSubplot: xlabel='price', ylabel='layout_type'>"
      ]
     },
     "execution_count": 194,
     "metadata": {},
     "output_type": "execute_result"
    },
    {
     "data": {
      "image/png": "[encoded data removed]",
      "text/plain": [
       "<Figure size 640x480 with 1 Axes>"
      ]
     },
     "metadata": {},
     "output_type": "display_data"
    }
   ],
   "source": [
    "coluna_analise_layout_type_x_preco = 'layout_type'\n",
    "\n",
    "statis = analise_preco(coluna_analise_layout_type_x_preco)\n",
    "print(statis)\n",
    "\n",
    "\n",
    "df.plot(kind='scatter', x='price', y=coluna_analise_layout_type_x_preco)"
   ]
  },
  {
   "cell_type": "code",
   "execution_count": 195,
   "metadata": {},
   "outputs": [
    {
     "data": {
      "text/plain": [
       "<AxesSubplot: ylabel='price'>"
      ]
     },
     "execution_count": 195,
     "metadata": {},
     "output_type": "execute_result"
    },
    {
     "data": {
      "image/png": "[encoded data removed]",
      "text/plain": [
       "<Figure size 1500x500 with 1 Axes>"
      ]
     },
     "metadata": {},
     "output_type": "display_data"
    }
   ],
   "source": [
    "df.groupby(coluna_analise_layout_type_x_preco)['price'].mean().plot(kind='pie', rot=0, figsize=(15,5))"
   ]
  },
  {
   "cell_type": "markdown",
   "metadata": {},
   "source": [
    "#### Coluna - 'property_type' x 'price'"
   ]
  },
  {
   "cell_type": "code",
   "execution_count": 196,
   "metadata": {},
   "outputs": [
    {
     "name": "stdout",
     "output_type": "stream",
     "text": [
      "{'Apartment': {'MEDIA': 19714.58, 'MODA': 15000.0, 'MEDIANA': 16000.0, 'DESVIO PADRAO': 13265.0, 'QUARTIS': [11000.0, 16000.0, 25000.0]}, 'Independent House': {'MEDIA': 13795.22, 'MODA': 10000.0, 'MEDIANA': 10000.0, 'DESVIO PADRAO': 12549.78, 'QUARTIS': [7000.0, 10000.0, 15000.0]}, 'Independent Floor': {'MEDIA': 14422.71, 'MODA': 10000.0, 'MEDIANA': 11500.0, 'DESVIO PADRAO': 10502.57, 'QUARTIS': [8000.0, 11500.0, 17000.0]}, 'Studio Apartment': {'MEDIA': 7635.44, 'MODA': 5000.0, 'MEDIANA': 6000.0, 'DESVIO PADRAO': 6713.66, 'QUARTIS': [5000.0, 6000.0, 8000.0]}, 'Villa': {'MEDIA': 25692.91, 'MODA': 30000.0, 'MEDIANA': 22000.0, 'DESVIO PADRAO': 22062.81, 'QUARTIS': [9000.0, 22000.0, 35000.0]}, 'Penthouse': {'MEDIA': 13183.25, 'MODA': 6666.0, 'MEDIANA': 8500.0, 'DESVIO PADRAO': 12833.5, 'QUARTIS': [6391.5, 8500.0, 13000.0]}}\n"
     ]
    },
    {
     "data": {
      "text/plain": [
       "<AxesSubplot: xlabel='price', ylabel='property_type'>"
      ]
     },
     "execution_count": 196,
     "metadata": {},
     "output_type": "execute_result"
    },
    {
     "data": {
      "image/png": "[encoded data removed]",
      "text/plain": [
       "<Figure size 640x480 with 1 Axes>"
      ]
     },
     "metadata": {},
     "output_type": "display_data"
    }
   ],
   "source": [
    "coluna_analise_property_type_x_preco = 'property_type'\n",
    "\n",
    "statis = analise_preco(coluna_analise_property_type_x_preco)\n",
    "print(statis)\n",
    "\n",
    "\n",
    "df.plot(kind='scatter', x='price', y=coluna_analise_property_type_x_preco)"
   ]
  },
  {
   "cell_type": "code",
   "execution_count": 197,
   "metadata": {},
   "outputs": [
    {
     "data": {
      "text/plain": [
       "<AxesSubplot: ylabel='price'>"
      ]
     },
     "execution_count": 197,
     "metadata": {},
     "output_type": "execute_result"
    },
    {
     "data": {
      "image/png": "[encoded data removed]",
      "text/plain": [
       "<Figure size 1500x500 with 1 Axes>"
      ]
     },
     "metadata": {},
     "output_type": "display_data"
    }
   ],
   "source": [
    "df.groupby(coluna_analise_property_type)['price'].mean().plot(kind='pie', rot=0, figsize=(15,5))"
   ]
  },
  {
   "cell_type": "markdown",
   "metadata": {},
   "source": [
    "## Algoritmo de associação"
   ]
  },
  {
   "cell_type": "code",
   "execution_count": 198,
   "metadata": {},
   "outputs": [],
   "source": [
    "df['property_location'] = df['locality'] + ', ' + df['property_type']"
   ]
  },
  {
   "cell_type": "code",
   "execution_count": 199,
   "metadata": {},
   "outputs": [
    {
     "data": {
      "text/plain": [
       "0                         Ambattur, Apartment\n",
       "1                      Kelambakkam, Apartment\n",
       "2                            Adyar, Apartment\n",
       "3                        Sembakkam, Apartment\n",
       "4                Mogappair, Independent House\n",
       "                        ...                  \n",
       "9895                      New Town, Apartment\n",
       "9896                     Baguihati, Apartment\n",
       "9897    Dum Dum Cantonment, Independent Floor\n",
       "9898               Shibpur, Independent Floor\n",
       "9899              Kanchrapara Loco, Apartment\n",
       "Name: property_location, Length: 28944, dtype: object"
      ]
     },
     "execution_count": 199,
     "metadata": {},
     "output_type": "execute_result"
    }
   ],
   "source": [
    "df['property_location']"
   ]
  },
  {
   "cell_type": "code",
   "execution_count": 200,
   "metadata": {},
   "outputs": [],
   "source": [
    "data = list(df['property_location'].apply(lambda x:x.split(\",\") ))"
   ]
  },
  {
   "cell_type": "code",
   "execution_count": 201,
   "metadata": {},
   "outputs": [
    {
     "data": {
      "text/html": [
       "<div>\n",
       "<style scoped>\n",
       "    .dataframe tbody tr th:only-of-type {\n",
       "        vertical-align: middle;\n",
       "    }\n",
       "\n",
       "    .dataframe tbody tr th {\n",
       "        vertical-align: top;\n",
       "    }\n",
       "\n",
       "    .dataframe thead th {\n",
       "        text-align: right;\n",
       "    }\n",
       "</style>\n",
       "<table border=\"1\" class=\"dataframe\">\n",
       "  <thead>\n",
       "    <tr style=\"text-align: right;\">\n",
       "      <th></th>\n",
       "      <th>Apartment</th>\n",
       "      <th>Independent Floor</th>\n",
       "      <th>Independent House</th>\n",
       "      <th>Penthouse</th>\n",
       "      <th>Studio Apartment</th>\n",
       "      <th>Villa</th>\n",
       "      <th>100 Feet Road</th>\n",
       "      <th>200 Feet Road</th>\n",
       "      <th>3rd Phase KPHB</th>\n",
       "      <th>6th Phase KPHB</th>\n",
       "      <th>...</th>\n",
       "      <th>raghunathpur</th>\n",
       "      <th>raidurgam</th>\n",
       "      <th>rajarhat newtown</th>\n",
       "      <th>sahakara nagar</th>\n",
       "      <th>salt lake sec iii</th>\n",
       "      <th>silpa park</th>\n",
       "      <th>south dum dum</th>\n",
       "      <th>sriram nagar kondapur</th>\n",
       "      <th>tambaram west</th>\n",
       "      <th>vivekananda Nagar</th>\n",
       "    </tr>\n",
       "  </thead>\n",
       "  <tbody>\n",
       "    <tr>\n",
       "      <th>0</th>\n",
       "      <td>True</td>\n",
       "      <td>False</td>\n",
       "      <td>False</td>\n",
       "      <td>False</td>\n",
       "      <td>False</td>\n",
       "      <td>False</td>\n",
       "      <td>False</td>\n",
       "      <td>False</td>\n",
       "      <td>False</td>\n",
       "      <td>False</td>\n",
       "      <td>...</td>\n",
       "      <td>False</td>\n",
       "      <td>False</td>\n",
       "      <td>False</td>\n",
       "      <td>False</td>\n",
       "      <td>False</td>\n",
       "      <td>False</td>\n",
       "      <td>False</td>\n",
       "      <td>False</td>\n",
       "      <td>False</td>\n",
       "      <td>False</td>\n",
       "    </tr>\n",
       "    <tr>\n",
       "      <th>1</th>\n",
       "      <td>True</td>\n",
       "      <td>False</td>\n",
       "      <td>False</td>\n",
       "      <td>False</td>\n",
       "      <td>False</td>\n",
       "      <td>False</td>\n",
       "      <td>False</td>\n",
       "      <td>False</td>\n",
       "      <td>False</td>\n",
       "      <td>False</td>\n",
       "      <td>...</td>\n",
       "      <td>False</td>\n",
       "      <td>False</td>\n",
       "      <td>False</td>\n",
       "      <td>False</td>\n",
       "      <td>False</td>\n",
       "      <td>False</td>\n",
       "      <td>False</td>\n",
       "      <td>False</td>\n",
       "      <td>False</td>\n",
       "      <td>False</td>\n",
       "    </tr>\n",
       "    <tr>\n",
       "      <th>2</th>\n",
       "      <td>True</td>\n",
       "      <td>False</td>\n",
       "      <td>False</td>\n",
       "      <td>False</td>\n",
       "      <td>False</td>\n",
       "      <td>False</td>\n",
       "      <td>False</td>\n",
       "      <td>False</td>\n",
       "      <td>False</td>\n",
       "      <td>False</td>\n",
       "      <td>...</td>\n",
       "      <td>False</td>\n",
       "      <td>False</td>\n",
       "      <td>False</td>\n",
       "      <td>False</td>\n",
       "      <td>False</td>\n",
       "      <td>False</td>\n",
       "      <td>False</td>\n",
       "      <td>False</td>\n",
       "      <td>False</td>\n",
       "      <td>False</td>\n",
       "    </tr>\n",
       "    <tr>\n",
       "      <th>3</th>\n",
       "      <td>True</td>\n",
       "      <td>False</td>\n",
       "      <td>False</td>\n",
       "      <td>False</td>\n",
       "      <td>False</td>\n",
       "      <td>False</td>\n",
       "      <td>False</td>\n",
       "      <td>False</td>\n",
       "      <td>False</td>\n",
       "      <td>False</td>\n",
       "      <td>...</td>\n",
       "      <td>False</td>\n",
       "      <td>False</td>\n",
       "      <td>False</td>\n",
       "      <td>False</td>\n",
       "      <td>False</td>\n",
       "      <td>False</td>\n",
       "      <td>False</td>\n",
       "      <td>False</td>\n",
       "      <td>False</td>\n",
       "      <td>False</td>\n",
       "    </tr>\n",
       "    <tr>\n",
       "      <th>4</th>\n",
       "      <td>False</td>\n",
       "      <td>False</td>\n",
       "      <td>True</td>\n",
       "      <td>False</td>\n",
       "      <td>False</td>\n",
       "      <td>False</td>\n",
       "      <td>False</td>\n",
       "      <td>False</td>\n",
       "      <td>False</td>\n",
       "      <td>False</td>\n",
       "      <td>...</td>\n",
       "      <td>False</td>\n",
       "      <td>False</td>\n",
       "      <td>False</td>\n",
       "      <td>False</td>\n",
       "      <td>False</td>\n",
       "      <td>False</td>\n",
       "      <td>False</td>\n",
       "      <td>False</td>\n",
       "      <td>False</td>\n",
       "      <td>False</td>\n",
       "    </tr>\n",
       "    <tr>\n",
       "      <th>...</th>\n",
       "      <td>...</td>\n",
       "      <td>...</td>\n",
       "      <td>...</td>\n",
       "      <td>...</td>\n",
       "      <td>...</td>\n",
       "      <td>...</td>\n",
       "      <td>...</td>\n",
       "      <td>...</td>\n",
       "      <td>...</td>\n",
       "      <td>...</td>\n",
       "      <td>...</td>\n",
       "      <td>...</td>\n",
       "      <td>...</td>\n",
       "      <td>...</td>\n",
       "      <td>...</td>\n",
       "      <td>...</td>\n",
       "      <td>...</td>\n",
       "      <td>...</td>\n",
       "      <td>...</td>\n",
       "      <td>...</td>\n",
       "      <td>...</td>\n",
       "    </tr>\n",
       "    <tr>\n",
       "      <th>28939</th>\n",
       "      <td>True</td>\n",
       "      <td>False</td>\n",
       "      <td>False</td>\n",
       "      <td>False</td>\n",
       "      <td>False</td>\n",
       "      <td>False</td>\n",
       "      <td>False</td>\n",
       "      <td>False</td>\n",
       "      <td>False</td>\n",
       "      <td>False</td>\n",
       "      <td>...</td>\n",
       "      <td>False</td>\n",
       "      <td>False</td>\n",
       "      <td>False</td>\n",
       "      <td>False</td>\n",
       "      <td>False</td>\n",
       "      <td>False</td>\n",
       "      <td>False</td>\n",
       "      <td>False</td>\n",
       "      <td>False</td>\n",
       "      <td>False</td>\n",
       "    </tr>\n",
       "    <tr>\n",
       "      <th>28940</th>\n",
       "      <td>True</td>\n",
       "      <td>False</td>\n",
       "      <td>False</td>\n",
       "      <td>False</td>\n",
       "      <td>False</td>\n",
       "      <td>False</td>\n",
       "      <td>False</td>\n",
       "      <td>False</td>\n",
       "      <td>False</td>\n",
       "      <td>False</td>\n",
       "      <td>...</td>\n",
       "      <td>False</td>\n",
       "      <td>False</td>\n",
       "      <td>False</td>\n",
       "      <td>False</td>\n",
       "      <td>False</td>\n",
       "      <td>False</td>\n",
       "      <td>False</td>\n",
       "      <td>False</td>\n",
       "      <td>False</td>\n",
       "      <td>False</td>\n",
       "    </tr>\n",
       "    <tr>\n",
       "      <th>28941</th>\n",
       "      <td>False</td>\n",
       "      <td>True</td>\n",
       "      <td>False</td>\n",
       "      <td>False</td>\n",
       "      <td>False</td>\n",
       "      <td>False</td>\n",
       "      <td>False</td>\n",
       "      <td>False</td>\n",
       "      <td>False</td>\n",
       "      <td>False</td>\n",
       "      <td>...</td>\n",
       "      <td>False</td>\n",
       "      <td>False</td>\n",
       "      <td>False</td>\n",
       "      <td>False</td>\n",
       "      <td>False</td>\n",
       "      <td>False</td>\n",
       "      <td>False</td>\n",
       "      <td>False</td>\n",
       "      <td>False</td>\n",
       "      <td>False</td>\n",
       "    </tr>\n",
       "    <tr>\n",
       "      <th>28942</th>\n",
       "      <td>False</td>\n",
       "      <td>True</td>\n",
       "      <td>False</td>\n",
       "      <td>False</td>\n",
       "      <td>False</td>\n",
       "      <td>False</td>\n",
       "      <td>False</td>\n",
       "      <td>False</td>\n",
       "      <td>False</td>\n",
       "      <td>False</td>\n",
       "      <td>...</td>\n",
       "      <td>False</td>\n",
       "      <td>False</td>\n",
       "      <td>False</td>\n",
       "      <td>False</td>\n",
       "      <td>False</td>\n",
       "      <td>False</td>\n",
       "      <td>False</td>\n",
       "      <td>False</td>\n",
       "      <td>False</td>\n",
       "      <td>False</td>\n",
       "    </tr>\n",
       "    <tr>\n",
       "      <th>28943</th>\n",
       "      <td>True</td>\n",
       "      <td>False</td>\n",
       "      <td>False</td>\n",
       "      <td>False</td>\n",
       "      <td>False</td>\n",
       "      <td>False</td>\n",
       "      <td>False</td>\n",
       "      <td>False</td>\n",
       "      <td>False</td>\n",
       "      <td>False</td>\n",
       "      <td>...</td>\n",
       "      <td>False</td>\n",
       "      <td>False</td>\n",
       "      <td>False</td>\n",
       "      <td>False</td>\n",
       "      <td>False</td>\n",
       "      <td>False</td>\n",
       "      <td>False</td>\n",
       "      <td>False</td>\n",
       "      <td>False</td>\n",
       "      <td>False</td>\n",
       "    </tr>\n",
       "  </tbody>\n",
       "</table>\n",
       "<p>28944 rows × 1297 columns</p>\n",
       "</div>"
      ],
      "text/plain": [
       "        Apartment   Independent Floor   Independent House   Penthouse  \\\n",
       "0            True               False               False       False   \n",
       "1            True               False               False       False   \n",
       "2            True               False               False       False   \n",
       "3            True               False               False       False   \n",
       "4           False               False                True       False   \n",
       "...           ...                 ...                 ...         ...   \n",
       "28939        True               False               False       False   \n",
       "28940        True               False               False       False   \n",
       "28941       False                True               False       False   \n",
       "28942       False                True               False       False   \n",
       "28943        True               False               False       False   \n",
       "\n",
       "        Studio Apartment   Villa  100 Feet Road  200 Feet Road  \\\n",
       "0                  False   False          False          False   \n",
       "1                  False   False          False          False   \n",
       "2                  False   False          False          False   \n",
       "3                  False   False          False          False   \n",
       "4                  False   False          False          False   \n",
       "...                  ...     ...            ...            ...   \n",
       "28939              False   False          False          False   \n",
       "28940              False   False          False          False   \n",
       "28941              False   False          False          False   \n",
       "28942              False   False          False          False   \n",
       "28943              False   False          False          False   \n",
       "\n",
       "       3rd Phase KPHB  6th Phase KPHB  ...  raghunathpur  raidurgam  \\\n",
       "0               False           False  ...         False      False   \n",
       "1               False           False  ...         False      False   \n",
       "2               False           False  ...         False      False   \n",
       "3               False           False  ...         False      False   \n",
       "4               False           False  ...         False      False   \n",
       "...               ...             ...  ...           ...        ...   \n",
       "28939           False           False  ...         False      False   \n",
       "28940           False           False  ...         False      False   \n",
       "28941           False           False  ...         False      False   \n",
       "28942           False           False  ...         False      False   \n",
       "28943           False           False  ...         False      False   \n",
       "\n",
       "       rajarhat newtown  sahakara nagar  salt lake sec iii  silpa park  \\\n",
       "0                 False           False              False       False   \n",
       "1                 False           False              False       False   \n",
       "2                 False           False              False       False   \n",
       "3                 False           False              False       False   \n",
       "4                 False           False              False       False   \n",
       "...                 ...             ...                ...         ...   \n",
       "28939             False           False              False       False   \n",
       "28940             False           False              False       False   \n",
       "28941             False           False              False       False   \n",
       "28942             False           False              False       False   \n",
       "28943             False           False              False       False   \n",
       "\n",
       "       south dum dum  sriram nagar kondapur  tambaram west  vivekananda Nagar  \n",
       "0              False                  False          False              False  \n",
       "1              False                  False          False              False  \n",
       "2              False                  False          False              False  \n",
       "3              False                  False          False              False  \n",
       "4              False                  False          False              False  \n",
       "...              ...                    ...            ...                ...  \n",
       "28939          False                  False          False              False  \n",
       "28940          False                  False          False              False  \n",
       "28941          False                  False          False              False  \n",
       "28942          False                  False          False              False  \n",
       "28943          False                  False          False              False  \n",
       "\n",
       "[28944 rows x 1297 columns]"
      ]
     },
     "execution_count": 201,
     "metadata": {},
     "output_type": "execute_result"
    }
   ],
   "source": [
    "encoder = TransactionEncoder()\n",
    "\n",
    "df_encoded = encoder.fit(data).transform(data)\n",
    "df_encoded = pd.DataFrame(df_encoded, columns=encoder.columns_)\n",
    "df_encoded"
   ]
  },
  {
   "cell_type": "code",
   "execution_count": 202,
   "metadata": {},
   "outputs": [
    {
     "data": {
      "text/html": [
       "<div>\n",
       "<style scoped>\n",
       "    .dataframe tbody tr th:only-of-type {\n",
       "        vertical-align: middle;\n",
       "    }\n",
       "\n",
       "    .dataframe tbody tr th {\n",
       "        vertical-align: top;\n",
       "    }\n",
       "\n",
       "    .dataframe thead th {\n",
       "        text-align: right;\n",
       "    }\n",
       "</style>\n",
       "<table border=\"1\" class=\"dataframe\">\n",
       "  <thead>\n",
       "    <tr style=\"text-align: right;\">\n",
       "      <th></th>\n",
       "      <th>Apartment</th>\n",
       "      <th>Independent Floor</th>\n",
       "      <th>Independent House</th>\n",
       "      <th>Penthouse</th>\n",
       "      <th>Studio Apartment</th>\n",
       "      <th>Villa</th>\n",
       "      <th>100 Feet Road</th>\n",
       "      <th>200 Feet Road</th>\n",
       "      <th>3rd Phase KPHB</th>\n",
       "      <th>6th Phase KPHB</th>\n",
       "      <th>...</th>\n",
       "      <th>raghunathpur</th>\n",
       "      <th>raidurgam</th>\n",
       "      <th>rajarhat newtown</th>\n",
       "      <th>sahakara nagar</th>\n",
       "      <th>salt lake sec iii</th>\n",
       "      <th>silpa park</th>\n",
       "      <th>south dum dum</th>\n",
       "      <th>sriram nagar kondapur</th>\n",
       "      <th>tambaram west</th>\n",
       "      <th>vivekananda Nagar</th>\n",
       "    </tr>\n",
       "  </thead>\n",
       "  <tbody>\n",
       "    <tr>\n",
       "      <th>0</th>\n",
       "      <td>1</td>\n",
       "      <td>0</td>\n",
       "      <td>0</td>\n",
       "      <td>0</td>\n",
       "      <td>0</td>\n",
       "      <td>0</td>\n",
       "      <td>0</td>\n",
       "      <td>0</td>\n",
       "      <td>0</td>\n",
       "      <td>0</td>\n",
       "      <td>...</td>\n",
       "      <td>0</td>\n",
       "      <td>0</td>\n",
       "      <td>0</td>\n",
       "      <td>0</td>\n",
       "      <td>0</td>\n",
       "      <td>0</td>\n",
       "      <td>0</td>\n",
       "      <td>0</td>\n",
       "      <td>0</td>\n",
       "      <td>0</td>\n",
       "    </tr>\n",
       "    <tr>\n",
       "      <th>1</th>\n",
       "      <td>1</td>\n",
       "      <td>0</td>\n",
       "      <td>0</td>\n",
       "      <td>0</td>\n",
       "      <td>0</td>\n",
       "      <td>0</td>\n",
       "      <td>0</td>\n",
       "      <td>0</td>\n",
       "      <td>0</td>\n",
       "      <td>0</td>\n",
       "      <td>...</td>\n",
       "      <td>0</td>\n",
       "      <td>0</td>\n",
       "      <td>0</td>\n",
       "      <td>0</td>\n",
       "      <td>0</td>\n",
       "      <td>0</td>\n",
       "      <td>0</td>\n",
       "      <td>0</td>\n",
       "      <td>0</td>\n",
       "      <td>0</td>\n",
       "    </tr>\n",
       "    <tr>\n",
       "      <th>2</th>\n",
       "      <td>1</td>\n",
       "      <td>0</td>\n",
       "      <td>0</td>\n",
       "      <td>0</td>\n",
       "      <td>0</td>\n",
       "      <td>0</td>\n",
       "      <td>0</td>\n",
       "      <td>0</td>\n",
       "      <td>0</td>\n",
       "      <td>0</td>\n",
       "      <td>...</td>\n",
       "      <td>0</td>\n",
       "      <td>0</td>\n",
       "      <td>0</td>\n",
       "      <td>0</td>\n",
       "      <td>0</td>\n",
       "      <td>0</td>\n",
       "      <td>0</td>\n",
       "      <td>0</td>\n",
       "      <td>0</td>\n",
       "      <td>0</td>\n",
       "    </tr>\n",
       "    <tr>\n",
       "      <th>3</th>\n",
       "      <td>1</td>\n",
       "      <td>0</td>\n",
       "      <td>0</td>\n",
       "      <td>0</td>\n",
       "      <td>0</td>\n",
       "      <td>0</td>\n",
       "      <td>0</td>\n",
       "      <td>0</td>\n",
       "      <td>0</td>\n",
       "      <td>0</td>\n",
       "      <td>...</td>\n",
       "      <td>0</td>\n",
       "      <td>0</td>\n",
       "      <td>0</td>\n",
       "      <td>0</td>\n",
       "      <td>0</td>\n",
       "      <td>0</td>\n",
       "      <td>0</td>\n",
       "      <td>0</td>\n",
       "      <td>0</td>\n",
       "      <td>0</td>\n",
       "    </tr>\n",
       "    <tr>\n",
       "      <th>4</th>\n",
       "      <td>0</td>\n",
       "      <td>0</td>\n",
       "      <td>1</td>\n",
       "      <td>0</td>\n",
       "      <td>0</td>\n",
       "      <td>0</td>\n",
       "      <td>0</td>\n",
       "      <td>0</td>\n",
       "      <td>0</td>\n",
       "      <td>0</td>\n",
       "      <td>...</td>\n",
       "      <td>0</td>\n",
       "      <td>0</td>\n",
       "      <td>0</td>\n",
       "      <td>0</td>\n",
       "      <td>0</td>\n",
       "      <td>0</td>\n",
       "      <td>0</td>\n",
       "      <td>0</td>\n",
       "      <td>0</td>\n",
       "      <td>0</td>\n",
       "    </tr>\n",
       "    <tr>\n",
       "      <th>...</th>\n",
       "      <td>...</td>\n",
       "      <td>...</td>\n",
       "      <td>...</td>\n",
       "      <td>...</td>\n",
       "      <td>...</td>\n",
       "      <td>...</td>\n",
       "      <td>...</td>\n",
       "      <td>...</td>\n",
       "      <td>...</td>\n",
       "      <td>...</td>\n",
       "      <td>...</td>\n",
       "      <td>...</td>\n",
       "      <td>...</td>\n",
       "      <td>...</td>\n",
       "      <td>...</td>\n",
       "      <td>...</td>\n",
       "      <td>...</td>\n",
       "      <td>...</td>\n",
       "      <td>...</td>\n",
       "      <td>...</td>\n",
       "      <td>...</td>\n",
       "    </tr>\n",
       "    <tr>\n",
       "      <th>28939</th>\n",
       "      <td>1</td>\n",
       "      <td>0</td>\n",
       "      <td>0</td>\n",
       "      <td>0</td>\n",
       "      <td>0</td>\n",
       "      <td>0</td>\n",
       "      <td>0</td>\n",
       "      <td>0</td>\n",
       "      <td>0</td>\n",
       "      <td>0</td>\n",
       "      <td>...</td>\n",
       "      <td>0</td>\n",
       "      <td>0</td>\n",
       "      <td>0</td>\n",
       "      <td>0</td>\n",
       "      <td>0</td>\n",
       "      <td>0</td>\n",
       "      <td>0</td>\n",
       "      <td>0</td>\n",
       "      <td>0</td>\n",
       "      <td>0</td>\n",
       "    </tr>\n",
       "    <tr>\n",
       "      <th>28940</th>\n",
       "      <td>1</td>\n",
       "      <td>0</td>\n",
       "      <td>0</td>\n",
       "      <td>0</td>\n",
       "      <td>0</td>\n",
       "      <td>0</td>\n",
       "      <td>0</td>\n",
       "      <td>0</td>\n",
       "      <td>0</td>\n",
       "      <td>0</td>\n",
       "      <td>...</td>\n",
       "      <td>0</td>\n",
       "      <td>0</td>\n",
       "      <td>0</td>\n",
       "      <td>0</td>\n",
       "      <td>0</td>\n",
       "      <td>0</td>\n",
       "      <td>0</td>\n",
       "      <td>0</td>\n",
       "      <td>0</td>\n",
       "      <td>0</td>\n",
       "    </tr>\n",
       "    <tr>\n",
       "      <th>28941</th>\n",
       "      <td>0</td>\n",
       "      <td>1</td>\n",
       "      <td>0</td>\n",
       "      <td>0</td>\n",
       "      <td>0</td>\n",
       "      <td>0</td>\n",
       "      <td>0</td>\n",
       "      <td>0</td>\n",
       "      <td>0</td>\n",
       "      <td>0</td>\n",
       "      <td>...</td>\n",
       "      <td>0</td>\n",
       "      <td>0</td>\n",
       "      <td>0</td>\n",
       "      <td>0</td>\n",
       "      <td>0</td>\n",
       "      <td>0</td>\n",
       "      <td>0</td>\n",
       "      <td>0</td>\n",
       "      <td>0</td>\n",
       "      <td>0</td>\n",
       "    </tr>\n",
       "    <tr>\n",
       "      <th>28942</th>\n",
       "      <td>0</td>\n",
       "      <td>1</td>\n",
       "      <td>0</td>\n",
       "      <td>0</td>\n",
       "      <td>0</td>\n",
       "      <td>0</td>\n",
       "      <td>0</td>\n",
       "      <td>0</td>\n",
       "      <td>0</td>\n",
       "      <td>0</td>\n",
       "      <td>...</td>\n",
       "      <td>0</td>\n",
       "      <td>0</td>\n",
       "      <td>0</td>\n",
       "      <td>0</td>\n",
       "      <td>0</td>\n",
       "      <td>0</td>\n",
       "      <td>0</td>\n",
       "      <td>0</td>\n",
       "      <td>0</td>\n",
       "      <td>0</td>\n",
       "    </tr>\n",
       "    <tr>\n",
       "      <th>28943</th>\n",
       "      <td>1</td>\n",
       "      <td>0</td>\n",
       "      <td>0</td>\n",
       "      <td>0</td>\n",
       "      <td>0</td>\n",
       "      <td>0</td>\n",
       "      <td>0</td>\n",
       "      <td>0</td>\n",
       "      <td>0</td>\n",
       "      <td>0</td>\n",
       "      <td>...</td>\n",
       "      <td>0</td>\n",
       "      <td>0</td>\n",
       "      <td>0</td>\n",
       "      <td>0</td>\n",
       "      <td>0</td>\n",
       "      <td>0</td>\n",
       "      <td>0</td>\n",
       "      <td>0</td>\n",
       "      <td>0</td>\n",
       "      <td>0</td>\n",
       "    </tr>\n",
       "  </tbody>\n",
       "</table>\n",
       "<p>28944 rows × 1297 columns</p>\n",
       "</div>"
      ],
      "text/plain": [
       "        Apartment   Independent Floor   Independent House   Penthouse  \\\n",
       "0               1                   0                   0           0   \n",
       "1               1                   0                   0           0   \n",
       "2               1                   0                   0           0   \n",
       "3               1                   0                   0           0   \n",
       "4               0                   0                   1           0   \n",
       "...           ...                 ...                 ...         ...   \n",
       "28939           1                   0                   0           0   \n",
       "28940           1                   0                   0           0   \n",
       "28941           0                   1                   0           0   \n",
       "28942           0                   1                   0           0   \n",
       "28943           1                   0                   0           0   \n",
       "\n",
       "        Studio Apartment   Villa  100 Feet Road  200 Feet Road  \\\n",
       "0                      0       0              0              0   \n",
       "1                      0       0              0              0   \n",
       "2                      0       0              0              0   \n",
       "3                      0       0              0              0   \n",
       "4                      0       0              0              0   \n",
       "...                  ...     ...            ...            ...   \n",
       "28939                  0       0              0              0   \n",
       "28940                  0       0              0              0   \n",
       "28941                  0       0              0              0   \n",
       "28942                  0       0              0              0   \n",
       "28943                  0       0              0              0   \n",
       "\n",
       "       3rd Phase KPHB  6th Phase KPHB  ...  raghunathpur  raidurgam  \\\n",
       "0                   0               0  ...             0          0   \n",
       "1                   0               0  ...             0          0   \n",
       "2                   0               0  ...             0          0   \n",
       "3                   0               0  ...             0          0   \n",
       "4                   0               0  ...             0          0   \n",
       "...               ...             ...  ...           ...        ...   \n",
       "28939               0               0  ...             0          0   \n",
       "28940               0               0  ...             0          0   \n",
       "28941               0               0  ...             0          0   \n",
       "28942               0               0  ...             0          0   \n",
       "28943               0               0  ...             0          0   \n",
       "\n",
       "       rajarhat newtown  sahakara nagar  salt lake sec iii  silpa park  \\\n",
       "0                     0               0                  0           0   \n",
       "1                     0               0                  0           0   \n",
       "2                     0               0                  0           0   \n",
       "3                     0               0                  0           0   \n",
       "4                     0               0                  0           0   \n",
       "...                 ...             ...                ...         ...   \n",
       "28939                 0               0                  0           0   \n",
       "28940                 0               0                  0           0   \n",
       "28941                 0               0                  0           0   \n",
       "28942                 0               0                  0           0   \n",
       "28943                 0               0                  0           0   \n",
       "\n",
       "       south dum dum  sriram nagar kondapur  tambaram west  vivekananda Nagar  \n",
       "0                  0                      0              0                  0  \n",
       "1                  0                      0              0                  0  \n",
       "2                  0                      0              0                  0  \n",
       "3                  0                      0              0                  0  \n",
       "4                  0                      0              0                  0  \n",
       "...              ...                    ...            ...                ...  \n",
       "28939              0                      0              0                  0  \n",
       "28940              0                      0              0                  0  \n",
       "28941              0                      0              0                  0  \n",
       "28942              0                      0              0                  0  \n",
       "28943              0                      0              0                  0  \n",
       "\n",
       "[28944 rows x 1297 columns]"
      ]
     },
     "execution_count": 202,
     "metadata": {},
     "output_type": "execute_result"
    }
   ],
   "source": [
    "df_encoded = df_encoded.replace({False: 0, True: 1})\n",
    "df_encoded"
   ]
  },
  {
   "cell_type": "code",
   "execution_count": 203,
   "metadata": {},
   "outputs": [
    {
     "name": "stderr",
     "output_type": "stream",
     "text": [
      "C:\\Users\\anjos\\AppData\\Local\\Packages\\PythonSoftwareFoundation.Python.3.10_qbz5n2kfra8p0\\LocalCache\\local-packages\\Python310\\site-packages\\mlxtend\\frequent_patterns\\fpcommon.py:111: DeprecationWarning: DataFrames with non-bool types result in worse computationalperformance and their support might be discontinued in the future.Please use a DataFrame with bool type\n",
      "  warnings.warn(\n"
     ]
    },
    {
     "data": {
      "text/html": [
       "<div>\n",
       "<style scoped>\n",
       "    .dataframe tbody tr th:only-of-type {\n",
       "        vertical-align: middle;\n",
       "    }\n",
       "\n",
       "    .dataframe tbody tr th {\n",
       "        vertical-align: top;\n",
       "    }\n",
       "\n",
       "    .dataframe thead th {\n",
       "        text-align: right;\n",
       "    }\n",
       "</style>\n",
       "<table border=\"1\" class=\"dataframe\">\n",
       "  <thead>\n",
       "    <tr style=\"text-align: right;\">\n",
       "      <th></th>\n",
       "      <th>support</th>\n",
       "      <th>itemsets</th>\n",
       "    </tr>\n",
       "  </thead>\n",
       "  <tbody>\n",
       "    <tr>\n",
       "      <th>0</th>\n",
       "      <td>0.675408</td>\n",
       "      <td>( Apartment)</td>\n",
       "    </tr>\n",
       "    <tr>\n",
       "      <th>1</th>\n",
       "      <td>0.117192</td>\n",
       "      <td>( Independent Floor)</td>\n",
       "    </tr>\n",
       "    <tr>\n",
       "      <th>2</th>\n",
       "      <td>0.145833</td>\n",
       "      <td>( Independent House)</td>\n",
       "    </tr>\n",
       "    <tr>\n",
       "      <th>3</th>\n",
       "      <td>0.045847</td>\n",
       "      <td>( Studio Apartment)</td>\n",
       "    </tr>\n",
       "    <tr>\n",
       "      <th>4</th>\n",
       "      <td>0.015167</td>\n",
       "      <td>( Villa)</td>\n",
       "    </tr>\n",
       "    <tr>\n",
       "      <th>...</th>\n",
       "      <td>...</td>\n",
       "      <td>...</td>\n",
       "    </tr>\n",
       "    <tr>\n",
       "      <th>410</th>\n",
       "      <td>0.001036</td>\n",
       "      <td>( Studio Apartment, Begumpet)</td>\n",
       "    </tr>\n",
       "    <tr>\n",
       "      <th>411</th>\n",
       "      <td>0.001417</td>\n",
       "      <td>(Gachibowli,  Studio Apartment)</td>\n",
       "    </tr>\n",
       "    <tr>\n",
       "      <th>412</th>\n",
       "      <td>0.001727</td>\n",
       "      <td>(Keshtopur,  Studio Apartment)</td>\n",
       "    </tr>\n",
       "    <tr>\n",
       "      <th>413</th>\n",
       "      <td>0.001658</td>\n",
       "      <td>(Madhapur,  Studio Apartment)</td>\n",
       "    </tr>\n",
       "    <tr>\n",
       "      <th>414</th>\n",
       "      <td>0.006081</td>\n",
       "      <td>(New Town,  Studio Apartment)</td>\n",
       "    </tr>\n",
       "  </tbody>\n",
       "</table>\n",
       "<p>415 rows × 2 columns</p>\n",
       "</div>"
      ],
      "text/plain": [
       "      support                         itemsets\n",
       "0    0.675408                     ( Apartment)\n",
       "1    0.117192             ( Independent Floor)\n",
       "2    0.145833             ( Independent House)\n",
       "3    0.045847              ( Studio Apartment)\n",
       "4    0.015167                         ( Villa)\n",
       "..        ...                              ...\n",
       "410  0.001036    ( Studio Apartment, Begumpet)\n",
       "411  0.001417  (Gachibowli,  Studio Apartment)\n",
       "412  0.001727   (Keshtopur,  Studio Apartment)\n",
       "413  0.001658    (Madhapur,  Studio Apartment)\n",
       "414  0.006081    (New Town,  Studio Apartment)\n",
       "\n",
       "[415 rows x 2 columns]"
      ]
     },
     "execution_count": 203,
     "metadata": {},
     "output_type": "execute_result"
    }
   ],
   "source": [
    "df_apriori = apriori(df_encoded, 0.001, use_colnames = True)\n",
    "df_apriori"
   ]
  },
  {
   "cell_type": "code",
   "execution_count": 204,
   "metadata": {},
   "outputs": [
    {
     "data": {
      "text/html": [
       "<div>\n",
       "<style scoped>\n",
       "    .dataframe tbody tr th:only-of-type {\n",
       "        vertical-align: middle;\n",
       "    }\n",
       "\n",
       "    .dataframe tbody tr th {\n",
       "        vertical-align: top;\n",
       "    }\n",
       "\n",
       "    .dataframe thead th {\n",
       "        text-align: right;\n",
       "    }\n",
       "</style>\n",
       "<table border=\"1\" class=\"dataframe\">\n",
       "  <thead>\n",
       "    <tr style=\"text-align: right;\">\n",
       "      <th></th>\n",
       "      <th>antecedents</th>\n",
       "      <th>consequents</th>\n",
       "      <th>antecedent support</th>\n",
       "      <th>consequent support</th>\n",
       "      <th>support</th>\n",
       "      <th>confidence</th>\n",
       "      <th>lift</th>\n",
       "      <th>leverage</th>\n",
       "      <th>conviction</th>\n",
       "    </tr>\n",
       "  </thead>\n",
       "  <tbody>\n",
       "    <tr>\n",
       "      <th>34</th>\n",
       "      <td>(Iyappanthangal)</td>\n",
       "      <td>( Apartment)</td>\n",
       "      <td>0.001658</td>\n",
       "      <td>0.675408</td>\n",
       "      <td>0.001658</td>\n",
       "      <td>1.000000</td>\n",
       "      <td>1.480587</td>\n",
       "      <td>0.000538</td>\n",
       "      <td>inf</td>\n",
       "    </tr>\n",
       "    <tr>\n",
       "      <th>108</th>\n",
       "      <td>(Topsia)</td>\n",
       "      <td>( Apartment)</td>\n",
       "      <td>0.002004</td>\n",
       "      <td>0.675408</td>\n",
       "      <td>0.002004</td>\n",
       "      <td>1.000000</td>\n",
       "      <td>1.480587</td>\n",
       "      <td>0.000650</td>\n",
       "      <td>inf</td>\n",
       "    </tr>\n",
       "    <tr>\n",
       "      <th>26</th>\n",
       "      <td>(Gariahat)</td>\n",
       "      <td>( Apartment)</td>\n",
       "      <td>0.001071</td>\n",
       "      <td>0.675408</td>\n",
       "      <td>0.001071</td>\n",
       "      <td>1.000000</td>\n",
       "      <td>1.480587</td>\n",
       "      <td>0.000348</td>\n",
       "      <td>inf</td>\n",
       "    </tr>\n",
       "    <tr>\n",
       "      <th>102</th>\n",
       "      <td>(Telecom Nagar)</td>\n",
       "      <td>( Apartment)</td>\n",
       "      <td>0.002315</td>\n",
       "      <td>0.675408</td>\n",
       "      <td>0.002280</td>\n",
       "      <td>0.985075</td>\n",
       "      <td>1.458489</td>\n",
       "      <td>0.000717</td>\n",
       "      <td>21.747685</td>\n",
       "    </tr>\n",
       "    <tr>\n",
       "      <th>101</th>\n",
       "      <td>(Tangra)</td>\n",
       "      <td>( Apartment)</td>\n",
       "      <td>0.005217</td>\n",
       "      <td>0.675408</td>\n",
       "      <td>0.005113</td>\n",
       "      <td>0.980132</td>\n",
       "      <td>1.451172</td>\n",
       "      <td>0.001590</td>\n",
       "      <td>16.337813</td>\n",
       "    </tr>\n",
       "    <tr>\n",
       "      <th>...</th>\n",
       "      <td>...</td>\n",
       "      <td>...</td>\n",
       "      <td>...</td>\n",
       "      <td>...</td>\n",
       "      <td>...</td>\n",
       "      <td>...</td>\n",
       "      <td>...</td>\n",
       "      <td>...</td>\n",
       "      <td>...</td>\n",
       "    </tr>\n",
       "    <tr>\n",
       "      <th>116</th>\n",
       "      <td>(Aminpur)</td>\n",
       "      <td>( Independent House)</td>\n",
       "      <td>0.002211</td>\n",
       "      <td>0.145833</td>\n",
       "      <td>0.001347</td>\n",
       "      <td>0.609375</td>\n",
       "      <td>4.178571</td>\n",
       "      <td>0.001025</td>\n",
       "      <td>2.186667</td>\n",
       "    </tr>\n",
       "    <tr>\n",
       "      <th>44</th>\n",
       "      <td>(Kodambakkam)</td>\n",
       "      <td>( Apartment)</td>\n",
       "      <td>0.003973</td>\n",
       "      <td>0.675408</td>\n",
       "      <td>0.002418</td>\n",
       "      <td>0.608696</td>\n",
       "      <td>0.901227</td>\n",
       "      <td>-0.000265</td>\n",
       "      <td>0.829514</td>\n",
       "    </tr>\n",
       "    <tr>\n",
       "      <th>81</th>\n",
       "      <td>(Perungudi)</td>\n",
       "      <td>( Apartment)</td>\n",
       "      <td>0.004941</td>\n",
       "      <td>0.675408</td>\n",
       "      <td>0.003006</td>\n",
       "      <td>0.608392</td>\n",
       "      <td>0.900777</td>\n",
       "      <td>-0.000331</td>\n",
       "      <td>0.828870</td>\n",
       "    </tr>\n",
       "    <tr>\n",
       "      <th>92</th>\n",
       "      <td>(Saroor Nagar)</td>\n",
       "      <td>( Apartment)</td>\n",
       "      <td>0.001762</td>\n",
       "      <td>0.675408</td>\n",
       "      <td>0.001071</td>\n",
       "      <td>0.607843</td>\n",
       "      <td>0.899965</td>\n",
       "      <td>-0.000119</td>\n",
       "      <td>0.827710</td>\n",
       "    </tr>\n",
       "    <tr>\n",
       "      <th>112</th>\n",
       "      <td>(West Mambalam)</td>\n",
       "      <td>( Apartment)</td>\n",
       "      <td>0.003317</td>\n",
       "      <td>0.675408</td>\n",
       "      <td>0.002004</td>\n",
       "      <td>0.604167</td>\n",
       "      <td>0.894521</td>\n",
       "      <td>-0.000236</td>\n",
       "      <td>0.820023</td>\n",
       "    </tr>\n",
       "  </tbody>\n",
       "</table>\n",
       "<p>119 rows × 9 columns</p>\n",
       "</div>"
      ],
      "text/plain": [
       "          antecedents           consequents  antecedent support  \\\n",
       "34   (Iyappanthangal)          ( Apartment)            0.001658   \n",
       "108          (Topsia)          ( Apartment)            0.002004   \n",
       "26         (Gariahat)          ( Apartment)            0.001071   \n",
       "102   (Telecom Nagar)          ( Apartment)            0.002315   \n",
       "101          (Tangra)          ( Apartment)            0.005217   \n",
       "..                ...                   ...                 ...   \n",
       "116         (Aminpur)  ( Independent House)            0.002211   \n",
       "44      (Kodambakkam)          ( Apartment)            0.003973   \n",
       "81        (Perungudi)          ( Apartment)            0.004941   \n",
       "92     (Saroor Nagar)          ( Apartment)            0.001762   \n",
       "112   (West Mambalam)          ( Apartment)            0.003317   \n",
       "\n",
       "     consequent support   support  confidence      lift  leverage  conviction  \n",
       "34             0.675408  0.001658    1.000000  1.480587  0.000538         inf  \n",
       "108            0.675408  0.002004    1.000000  1.480587  0.000650         inf  \n",
       "26             0.675408  0.001071    1.000000  1.480587  0.000348         inf  \n",
       "102            0.675408  0.002280    0.985075  1.458489  0.000717   21.747685  \n",
       "101            0.675408  0.005113    0.980132  1.451172  0.001590   16.337813  \n",
       "..                  ...       ...         ...       ...       ...         ...  \n",
       "116            0.145833  0.001347    0.609375  4.178571  0.001025    2.186667  \n",
       "44             0.675408  0.002418    0.608696  0.901227 -0.000265    0.829514  \n",
       "81             0.675408  0.003006    0.608392  0.900777 -0.000331    0.828870  \n",
       "92             0.675408  0.001071    0.607843  0.899965 -0.000119    0.827710  \n",
       "112            0.675408  0.002004    0.604167  0.894521 -0.000236    0.820023  \n",
       "\n",
       "[119 rows x 9 columns]"
      ]
     },
     "execution_count": 204,
     "metadata": {},
     "output_type": "execute_result"
    }
   ],
   "source": [
    "df_ar = association_rules(df_apriori, metric=\"confidence\", min_threshold=0.6)\n",
    "df_ar\n",
    "df_ar.sort_values(by='confidence', ascending=False)"
   ]
  },
  {
   "cell_type": "markdown",
   "metadata": {},
   "source": [
    "#### Indicações de anomalias"
   ]
  },
  {
   "cell_type": "markdown",
   "metadata": {},
   "source": [
    "Analisando os 5 primeiros registros: \n",
    "\n",
    "* Em Iyappanthangal, a probabilidade do tipo de proriedade alugada ser um apartamento é de 48%\n",
    "* 0.2% dos aluguéis da Índia estão em Topsia\n",
    "* A confiança indica que 100% de quem aluga em Gariahat, faz o aluguel de um apartamento\n",
    "* Aluguéis em Telecom Nagar representam 0.23% do total do país, e dentro desse valor, 68% são apartamentos\n",
    "* O suporte entre tipo de propriedade 'apartamento' e a cidade 'Tangra'\n",
    "indica 0.5% "
   ]
  },
  {
   "cell_type": "code",
   "execution_count": 205,
   "metadata": {},
   "outputs": [
    {
     "data": {
      "text/html": [
       "<div>\n",
       "<style scoped>\n",
       "    .dataframe tbody tr th:only-of-type {\n",
       "        vertical-align: middle;\n",
       "    }\n",
       "\n",
       "    .dataframe tbody tr th {\n",
       "        vertical-align: top;\n",
       "    }\n",
       "\n",
       "    .dataframe thead th {\n",
       "        text-align: right;\n",
       "    }\n",
       "</style>\n",
       "<table border=\"1\" class=\"dataframe\">\n",
       "  <thead>\n",
       "    <tr style=\"text-align: right;\">\n",
       "      <th></th>\n",
       "      <th>seller_type</th>\n",
       "      <th>bedroom</th>\n",
       "      <th>layout_type</th>\n",
       "      <th>property_type</th>\n",
       "      <th>locality</th>\n",
       "      <th>price</th>\n",
       "      <th>area</th>\n",
       "      <th>furnish_type</th>\n",
       "      <th>bathroom</th>\n",
       "      <th>dataset</th>\n",
       "      <th>property_location</th>\n",
       "    </tr>\n",
       "  </thead>\n",
       "  <tbody>\n",
       "    <tr>\n",
       "      <th>0</th>\n",
       "      <td>OWNER</td>\n",
       "      <td>3.0</td>\n",
       "      <td>BHK</td>\n",
       "      <td>Apartment</td>\n",
       "      <td>Ambattur</td>\n",
       "      <td>17000.0</td>\n",
       "      <td>1570.0</td>\n",
       "      <td>Semi-Furnished</td>\n",
       "      <td>2</td>\n",
       "      <td>Chennai</td>\n",
       "      <td>Ambattur, Apartment</td>\n",
       "    </tr>\n",
       "    <tr>\n",
       "      <th>1</th>\n",
       "      <td>OWNER</td>\n",
       "      <td>2.0</td>\n",
       "      <td>BHK</td>\n",
       "      <td>Apartment</td>\n",
       "      <td>Kelambakkam</td>\n",
       "      <td>16000.0</td>\n",
       "      <td>1402.0</td>\n",
       "      <td>Semi-Furnished</td>\n",
       "      <td>2</td>\n",
       "      <td>Chennai</td>\n",
       "      <td>Kelambakkam, Apartment</td>\n",
       "    </tr>\n",
       "    <tr>\n",
       "      <th>2</th>\n",
       "      <td>OWNER</td>\n",
       "      <td>2.0</td>\n",
       "      <td>BHK</td>\n",
       "      <td>Apartment</td>\n",
       "      <td>Adyar</td>\n",
       "      <td>20000.0</td>\n",
       "      <td>800.0</td>\n",
       "      <td>Semi-Furnished</td>\n",
       "      <td>2</td>\n",
       "      <td>Chennai</td>\n",
       "      <td>Adyar, Apartment</td>\n",
       "    </tr>\n",
       "    <tr>\n",
       "      <th>3</th>\n",
       "      <td>OWNER</td>\n",
       "      <td>2.0</td>\n",
       "      <td>BHK</td>\n",
       "      <td>Apartment</td>\n",
       "      <td>Sembakkam</td>\n",
       "      <td>14000.0</td>\n",
       "      <td>1180.0</td>\n",
       "      <td>Unfurnished</td>\n",
       "      <td>2</td>\n",
       "      <td>Chennai</td>\n",
       "      <td>Sembakkam, Apartment</td>\n",
       "    </tr>\n",
       "    <tr>\n",
       "      <th>4</th>\n",
       "      <td>OWNER</td>\n",
       "      <td>1.0</td>\n",
       "      <td>BHK</td>\n",
       "      <td>Independent House</td>\n",
       "      <td>Mogappair</td>\n",
       "      <td>7000.0</td>\n",
       "      <td>400.0</td>\n",
       "      <td>Unfurnished</td>\n",
       "      <td>1</td>\n",
       "      <td>Chennai</td>\n",
       "      <td>Mogappair, Independent House</td>\n",
       "    </tr>\n",
       "    <tr>\n",
       "      <th>...</th>\n",
       "      <td>...</td>\n",
       "      <td>...</td>\n",
       "      <td>...</td>\n",
       "      <td>...</td>\n",
       "      <td>...</td>\n",
       "      <td>...</td>\n",
       "      <td>...</td>\n",
       "      <td>...</td>\n",
       "      <td>...</td>\n",
       "      <td>...</td>\n",
       "      <td>...</td>\n",
       "    </tr>\n",
       "    <tr>\n",
       "      <th>9895</th>\n",
       "      <td>OWNER</td>\n",
       "      <td>3.0</td>\n",
       "      <td>BHK</td>\n",
       "      <td>Apartment</td>\n",
       "      <td>New Town</td>\n",
       "      <td>19000.0</td>\n",
       "      <td>1400.0</td>\n",
       "      <td>Semi-Furnished</td>\n",
       "      <td>2</td>\n",
       "      <td>Kolkata</td>\n",
       "      <td>New Town, Apartment</td>\n",
       "    </tr>\n",
       "    <tr>\n",
       "      <th>9896</th>\n",
       "      <td>OWNER</td>\n",
       "      <td>2.0</td>\n",
       "      <td>BHK</td>\n",
       "      <td>Apartment</td>\n",
       "      <td>Baguihati</td>\n",
       "      <td>12000.0</td>\n",
       "      <td>925.0</td>\n",
       "      <td>Semi-Furnished</td>\n",
       "      <td>2</td>\n",
       "      <td>Kolkata</td>\n",
       "      <td>Baguihati, Apartment</td>\n",
       "    </tr>\n",
       "    <tr>\n",
       "      <th>9897</th>\n",
       "      <td>OWNER</td>\n",
       "      <td>2.0</td>\n",
       "      <td>BHK</td>\n",
       "      <td>Independent Floor</td>\n",
       "      <td>Dum Dum Cantonment</td>\n",
       "      <td>5500.0</td>\n",
       "      <td>650.0</td>\n",
       "      <td>Semi-Furnished</td>\n",
       "      <td>1</td>\n",
       "      <td>Kolkata</td>\n",
       "      <td>Dum Dum Cantonment, Independent Floor</td>\n",
       "    </tr>\n",
       "    <tr>\n",
       "      <th>9898</th>\n",
       "      <td>OWNER</td>\n",
       "      <td>3.0</td>\n",
       "      <td>BHK</td>\n",
       "      <td>Independent Floor</td>\n",
       "      <td>Shibpur</td>\n",
       "      <td>7500.0</td>\n",
       "      <td>960.0</td>\n",
       "      <td>Unfurnished</td>\n",
       "      <td>1</td>\n",
       "      <td>Kolkata</td>\n",
       "      <td>Shibpur, Independent Floor</td>\n",
       "    </tr>\n",
       "    <tr>\n",
       "      <th>9899</th>\n",
       "      <td>OWNER</td>\n",
       "      <td>3.0</td>\n",
       "      <td>BHK</td>\n",
       "      <td>Apartment</td>\n",
       "      <td>Kanchrapara Loco</td>\n",
       "      <td>15000.0</td>\n",
       "      <td>1165.0</td>\n",
       "      <td>Furnished</td>\n",
       "      <td>2</td>\n",
       "      <td>Kolkata</td>\n",
       "      <td>Kanchrapara Loco, Apartment</td>\n",
       "    </tr>\n",
       "  </tbody>\n",
       "</table>\n",
       "<p>28944 rows × 11 columns</p>\n",
       "</div>"
      ],
      "text/plain": [
       "     seller_type  bedroom layout_type      property_type            locality  \\\n",
       "0          OWNER      3.0         BHK          Apartment            Ambattur   \n",
       "1          OWNER      2.0         BHK          Apartment         Kelambakkam   \n",
       "2          OWNER      2.0         BHK          Apartment               Adyar   \n",
       "3          OWNER      2.0         BHK          Apartment           Sembakkam   \n",
       "4          OWNER      1.0         BHK  Independent House           Mogappair   \n",
       "...          ...      ...         ...                ...                 ...   \n",
       "9895       OWNER      3.0         BHK          Apartment            New Town   \n",
       "9896       OWNER      2.0         BHK          Apartment           Baguihati   \n",
       "9897       OWNER      2.0         BHK  Independent Floor  Dum Dum Cantonment   \n",
       "9898       OWNER      3.0         BHK  Independent Floor             Shibpur   \n",
       "9899       OWNER      3.0         BHK          Apartment    Kanchrapara Loco   \n",
       "\n",
       "        price    area    furnish_type bathroom  dataset  \\\n",
       "0     17000.0  1570.0  Semi-Furnished       2   Chennai   \n",
       "1     16000.0  1402.0  Semi-Furnished       2   Chennai   \n",
       "2     20000.0   800.0  Semi-Furnished       2   Chennai   \n",
       "3     14000.0  1180.0     Unfurnished       2   Chennai   \n",
       "4      7000.0   400.0     Unfurnished       1   Chennai   \n",
       "...       ...     ...             ...      ...      ...   \n",
       "9895  19000.0  1400.0  Semi-Furnished       2   Kolkata   \n",
       "9896  12000.0   925.0  Semi-Furnished       2   Kolkata   \n",
       "9897   5500.0   650.0  Semi-Furnished       1   Kolkata   \n",
       "9898   7500.0   960.0     Unfurnished       1   Kolkata   \n",
       "9899  15000.0  1165.0       Furnished       2   Kolkata   \n",
       "\n",
       "                          property_location  \n",
       "0                       Ambattur, Apartment  \n",
       "1                    Kelambakkam, Apartment  \n",
       "2                          Adyar, Apartment  \n",
       "3                      Sembakkam, Apartment  \n",
       "4              Mogappair, Independent House  \n",
       "...                                     ...  \n",
       "9895                    New Town, Apartment  \n",
       "9896                   Baguihati, Apartment  \n",
       "9897  Dum Dum Cantonment, Independent Floor  \n",
       "9898             Shibpur, Independent Floor  \n",
       "9899            Kanchrapara Loco, Apartment  \n",
       "\n",
       "[28944 rows x 11 columns]"
      ]
     },
     "execution_count": 205,
     "metadata": {},
     "output_type": "execute_result"
    }
   ],
   "source": [
    "df[df['price'] < 1000000]"
   ]
  },
  {
   "cell_type": "markdown",
   "metadata": {},
   "source": [
    "###"
   ]
  }
 ],
 "metadata": {
  "kernelspec": {
   "display_name": "Python 3.10.8 64-bit (microsoft store)",
   "language": "python",
   "name": "python3"
  },
  "language_info": {
   "codemirror_mode": {
    "name": "ipython",
    "version": 3
   },
   "file_extension": ".py",
   "mimetype": "text/x-python",
   "name": "python",
   "nbconvert_exporter": "python",
   "pygments_lexer": "ipython3",
   "version": "3.10.8"
  },
  "orig_nbformat": 4,
  "vscode": {
   "interpreter": {
    "hash": "1411826be7eae97a21cd32c3ad68577137fa7ead80dc4d38e556535e3b8866d8"
   }
  }
 },
 "nbformat": 4,
 "nbformat_minor": 2
}
