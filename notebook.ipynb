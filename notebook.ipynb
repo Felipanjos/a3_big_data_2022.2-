{
 "cells": [
  {
   "cell_type": "markdown",
   "metadata": {},
   "source": [
    "### Link do dataset"
   ]
  },
  {
   "cell_type": "code",
   "execution_count": null,
   "metadata": {},
   "outputs": [],
   "source": [
    "# https://www.kaggle.com/datasets/saisaathvik/house-rent-prices-of-metropolitan-cities-in-india?select=Kolkata_rent.csv"
   ]
  },
  {
   "cell_type": "markdown",
   "metadata": {},
   "source": [
    "### Descrição dos procedimentos de coleta de dados e significado dos atributos"
   ]
  },
  {
   "cell_type": "code",
   "execution_count": null,
   "metadata": {},
   "outputs": [],
   "source": [
    "# Os dados do dataset foram extraídos através do método Web-Scraping através de uma extensão do Google Chorme, chamada de Instant Data Scraper.\n",
    "# Link: https://chrome.google.com/webstore/detail/instant-data-scraper/ofaokhiedipichpaobibbnahnkdoiiah"
   ]
  },
  {
   "cell_type": "code",
   "execution_count": null,
   "metadata": {},
   "outputs": [],
   "source": [
    "# O conteúdo do dataset é formado pelos seguintes atributos:\n",
    "#       * Tipo de vendedor (seller_type);\n",
    "#       * Numero de Quartos (bedroom);\n",
    "#       * Tipo do layout (layout_type);\n",
    "#       * Tipo da propriedade (property_type);\n",
    "#       * Localização (location);\n",
    "#       * Preço (price);\n",
    "#       * Area (area);\n",
    "#       * Tipo de mobilia (furnish_type);\n",
    "#       * Numero de Banheiros (bathroom)."
   ]
  },
  {
   "cell_type": "code",
   "execution_count": null,
   "metadata": {},
   "outputs": [],
   "source": [
    "# Dataset ja vem por padrão sem dados duplicados.\n",
    "# Caso houvesse a necessidade de restringir os dados duplicados seria usada a função \"pd.dataframe.drop_duplicates()\", passando como parametro o nome da coluns e axis=1\n",
    "# Então, neste caso específico, não faz sentido remover os \"valores duplicados\" pois cada apartamento é único.\n"
   ]
  },
  {
   "cell_type": "markdown",
   "metadata": {},
   "source": [
    "## Dependências e carregamento do Dataframe"
   ]
  },
  {
   "cell_type": "code",
   "execution_count": null,
   "metadata": {},
   "outputs": [],
   "source": [
    "import pandas as pd\n",
    "import numpy as np\n",
    "import statistics as st\n",
    "import pandas as pd\n",
    "import numpy as np\n",
    "from mlxtend.frequent_patterns import apriori, association_rules\n",
    "from mlxtend.preprocessing import TransactionEncoder"
   ]
  },
  {
   "cell_type": "code",
   "execution_count": null,
   "metadata": {
    "tags": []
   },
   "outputs": [],
   "source": [
    "chennai_df = pd.read_csv('Chennai.csv')\n",
    "chennai_df['dataset'] = 'Chennai'\n",
    "\n",
    "hyderabad_df = pd.read_csv('Hyderabad.csv')\n",
    "hyderabad_df['dataset'] = 'Hydebarad'\n",
    "\n",
    "kolkata_df = pd.read_csv('Kolkata.csv')\n",
    "kolkata_df['dataset'] = 'Kolkata'"
   ]
  },
  {
   "cell_type": "code",
   "execution_count": null,
   "metadata": {},
   "outputs": [],
   "source": [
    "#chennai_df.head()"
   ]
  },
  {
   "cell_type": "code",
   "execution_count": null,
   "metadata": {},
   "outputs": [],
   "source": [
    "#hyderabad_df.head()"
   ]
  },
  {
   "cell_type": "code",
   "execution_count": null,
   "metadata": {},
   "outputs": [],
   "source": [
    "#kolkata_df.head()"
   ]
  },
  {
   "cell_type": "code",
   "execution_count": null,
   "metadata": {},
   "outputs": [],
   "source": [
    "df = pd.concat([chennai_df, hyderabad_df, kolkata_df])"
   ]
  },
  {
   "cell_type": "markdown",
   "metadata": {},
   "source": [
    "### Tratamento Inicial"
   ]
  },
  {
   "cell_type": "code",
   "execution_count": null,
   "metadata": {},
   "outputs": [],
   "source": [
    "# Foi retirada a palavra 'bathrooms' da coluna bathroom para ser possível a contabilização dos banheiros,\n",
    "# em seguida é retirada as virgulas da coluna price para em seguida converter-la para 'float64' e assim ser possível a realização de calculas e demonstração de gráficos"
   ]
  },
  {
   "cell_type": "code",
   "execution_count": null,
   "metadata": {},
   "outputs": [],
   "source": [
    "df['bathroom'] = df['bathroom'].str.replace('bathrooms', '')"
   ]
  },
  {
   "cell_type": "code",
   "execution_count": null,
   "metadata": {},
   "outputs": [],
   "source": [
    "df['price'] = df['price'].str.replace(',', '')\n",
    "df['price'] = df['price'].astype(np.float64)"
   ]
  },
  {
   "cell_type": "markdown",
   "metadata": {},
   "source": [
    "## Hipóteses"
   ]
  },
  {
   "cell_type": "code",
   "execution_count": 164,
   "metadata": {},
   "outputs": [
    {
     "name": "stderr",
     "output_type": "stream",
     "text": [
      "C:\\Users\\anjos\\AppData\\Local\\Temp\\ipykernel_30676\\441180871.py:1: FutureWarning: The default value of numeric_only in DataFrame.corr is deprecated. In a future version, it will default to False. Select only valid columns or specify the value of numeric_only to silence this warning.\n",
      "  df.corr()['price']\n"
     ]
    },
    {
     "data": {
      "text/plain": [
       "bedroom    0.505890\n",
       "price      1.000000\n",
       "area       0.422711\n",
       "Name: price, dtype: float64"
      ]
     },
     "execution_count": 164,
     "metadata": {},
     "output_type": "execute_result"
    }
   ],
   "source": [
    "df.corr()['price']"
   ]
  },
  {
   "cell_type": "code",
   "execution_count": null,
   "metadata": {},
   "outputs": [],
   "source": [
    "# Com base no resultado do cálculo do método de Correlação de Pearson, que demosntra a relação entre a coluna escolhida, neste caso preço (price), e as demais colunas é possível \n",
    "# observer que o preço do apartamento está altamente relacionado à quantidade de banheiros e em seguida à area do apartamento."
   ]
  },
  {
   "cell_type": "markdown",
   "metadata": {},
   "source": [
    "## Tratamento de dados ausentes"
   ]
  },
  {
   "cell_type": "code",
   "execution_count": null,
   "metadata": {},
   "outputs": [],
   "source": [
    "df.info()"
   ]
  },
  {
   "cell_type": "code",
   "execution_count": null,
   "metadata": {},
   "outputs": [],
   "source": [
    "# A estratégia escolhida para tratar dados ausentes foi excluir o registro, pois devido a quentidade de amostras a quantidade de registros excluidos é irrelevante"
   ]
  },
  {
   "cell_type": "code",
   "execution_count": null,
   "metadata": {},
   "outputs": [],
   "source": [
    "df.dropna(inplace=True)"
   ]
  },
  {
   "cell_type": "markdown",
   "metadata": {},
   "source": [
    "## Análise numérica de estatísticas descritivas"
   ]
  },
  {
   "cell_type": "markdown",
   "metadata": {},
   "source": [
    "##### Este método retorna valores da media, moda, mediana, desvio padrão e quartis do preço para cada atribudo escolhido da coluna de base"
   ]
  },
  {
   "cell_type": "code",
   "execution_count": null,
   "metadata": {},
   "outputs": [],
   "source": [
    "def analise_preco(coluna):\n",
    "    global df\n",
    "    \n",
    "    dct_retorno = {}    \n",
    "    s_coluna = df[coluna].value_counts()   \n",
    "    \n",
    "    for i in range(len(s_coluna)):\n",
    "        dct_sts = {}\n",
    "        index = s_coluna.index[i]\n",
    "        \n",
    "        \n",
    "        preco = df[df[coluna] == index]['price']\n",
    "        \n",
    "        media = st.mean(preco)\n",
    "        moda = st.mode(preco)\n",
    "        mediana = st.median(preco)\n",
    "        desvio_padrao = st.stdev(preco)\n",
    "        quartis = st.quantiles(preco)\n",
    "                \n",
    "        dct_sts['MEDIA'] = round(media,2)\n",
    "        dct_sts['MODA'] = round(moda,2)\n",
    "        dct_sts['MEDIANA'] = round(mediana,2)\n",
    "        dct_sts['DESVIO PADRAO'] = round(desvio_padrao,2)\n",
    "        dct_sts['QUARTIS'] = quartis  \n",
    "        \n",
    "        #dct_retorno[index] = (dct_sts,preco) \n",
    "        dct_retorno[index] = dct_sts \n",
    "        \n",
    "    \n",
    "    return dct_retorno"
   ]
  },
  {
   "cell_type": "markdown",
   "metadata": {},
   "source": [
    "##### Este método retorna valores da media, moda, mediana, desvio padrão e quartis da coluna de base"
   ]
  },
  {
   "cell_type": "code",
   "execution_count": null,
   "metadata": {},
   "outputs": [],
   "source": [
    "def analise_desc_num(coluna):\n",
    "    global df\n",
    "    \n",
    "    dct_retorno = {}    \n",
    "    s_coluna = df[coluna].value_counts()\n",
    "      \n",
    "    media = st.mean(s_coluna)\n",
    "    moda = st.mode(s_coluna)\n",
    "    mediana = st.median(s_coluna)\n",
    "    desvio_padrao = st.stdev(s_coluna)\n",
    "    quartis = st.quantiles(s_coluna)\n",
    "    \n",
    "    dct_retorno['MEDIA'] = media\n",
    "    dct_retorno['MODA'] = moda\n",
    "    dct_retorno['MEDIANA'] = mediana\n",
    "    dct_retorno['DESVIO PADRAO'] = desvio_padrao\n",
    "    dct_retorno['QUARTIS'] = quartis    \n",
    "    \n",
    "    return dct_retorno\n",
    "    "
   ]
  },
  {
   "cell_type": "markdown",
   "metadata": {},
   "source": [
    "### Análise individual dos atributos das colunas descritivas"
   ]
  },
  {
   "cell_type": "markdown",
   "metadata": {},
   "source": [
    "#### Coluna - 'seller_type'"
   ]
  },
  {
   "cell_type": "code",
   "execution_count": null,
   "metadata": {},
   "outputs": [],
   "source": [
    "coluna_analise_seller_type = 'seller_type'\n",
    "\n",
    "statis = analise_desc_num(coluna_analise_seller_type)\n",
    "\n",
    "\n",
    "print(statis)\n",
    "df[coluna_analise_seller_type].value_counts().plot(kind='bar')"
   ]
  },
  {
   "cell_type": "markdown",
   "metadata": {},
   "source": [
    "#### Coluna - 'layout_type'"
   ]
  },
  {
   "cell_type": "code",
   "execution_count": null,
   "metadata": {},
   "outputs": [],
   "source": [
    "coluna_analise_layout_type = 'layout_type'\n",
    "\n",
    "statis = analise_desc_num(coluna_analise_layout_type)\n",
    "\n",
    "\n",
    "print(statis)\n",
    "df[coluna_analise_layout_type].value_counts().plot(kind='bar')"
   ]
  },
  {
   "cell_type": "markdown",
   "metadata": {},
   "source": [
    "#### Coluna - 'property_type'"
   ]
  },
  {
   "cell_type": "code",
   "execution_count": null,
   "metadata": {},
   "outputs": [],
   "source": [
    "coluna_analise_property_type = 'property_type'\n",
    "\n",
    "statis = analise_desc_num(coluna_analise_property_type)\n",
    "\n",
    "\n",
    "print(statis)\n",
    "df[coluna_analise_property_type].value_counts().plot(kind='bar')"
   ]
  },
  {
   "cell_type": "markdown",
   "metadata": {},
   "source": [
    "### Analise do preco por atributo da coluna descritiva"
   ]
  },
  {
   "cell_type": "markdown",
   "metadata": {},
   "source": [
    "#### Coluna - 'bathroom' x 'price'"
   ]
  },
  {
   "cell_type": "code",
   "execution_count": null,
   "metadata": {},
   "outputs": [],
   "source": [
    "coluna_analise_banheiro_x_preco = 'bathroom'\n",
    "\n",
    "df.plot(kind='scatter', x='price', y=coluna_analise_banheiro_x_preco)"
   ]
  },
  {
   "cell_type": "code",
   "execution_count": null,
   "metadata": {},
   "outputs": [],
   "source": [
    "df.groupby(coluna_analise_banheiro_x_preco)['price'].mean().plot(kind='line', rot=0, figsize=(30,5))"
   ]
  },
  {
   "cell_type": "markdown",
   "metadata": {},
   "source": [
    "#### Coluna - 'area' x 'price'"
   ]
  },
  {
   "cell_type": "code",
   "execution_count": null,
   "metadata": {},
   "outputs": [],
   "source": [
    "coluna_analise_area_x_preco = 'area'\n",
    "\n",
    "df.plot(kind='scatter', x='price', y=coluna_analise_area_x_preco)"
   ]
  },
  {
   "cell_type": "code",
   "execution_count": null,
   "metadata": {},
   "outputs": [],
   "source": [
    "df.groupby(coluna_analise_area_x_preco)['price'].mean().plot(kind='line', rot=0, figsize=(30,5))"
   ]
  },
  {
   "cell_type": "markdown",
   "metadata": {},
   "source": [
    "#### Coluna - 'seller_type' x 'price'"
   ]
  },
  {
   "cell_type": "code",
   "execution_count": null,
   "metadata": {},
   "outputs": [],
   "source": [
    "coluna_analise_seller_type_x_preco = 'seller_type'\n",
    "\n",
    "statis = analise_preco(coluna_analise_seller_type_x_preco)\n",
    "print(statis)\n",
    "\n",
    "\n",
    "df.plot(kind='scatter', x='price', y=coluna_analise_seller_type_x_preco)\n"
   ]
  },
  {
   "cell_type": "code",
   "execution_count": null,
   "metadata": {},
   "outputs": [],
   "source": [
    "df.groupby(coluna_analise_seller_type_x_preco)['price'].mean().plot(kind='pie', rot=0, figsize=(15,5))"
   ]
  },
  {
   "cell_type": "markdown",
   "metadata": {},
   "source": [
    "#### Coluna - 'layout_type' x 'price'"
   ]
  },
  {
   "cell_type": "code",
   "execution_count": null,
   "metadata": {},
   "outputs": [],
   "source": [
    "coluna_analise_layout_type_x_preco = 'layout_type'\n",
    "\n",
    "statis = analise_preco(coluna_analise_layout_type_x_preco)\n",
    "print(statis)\n",
    "\n",
    "\n",
    "df.plot(kind='scatter', x='price', y=coluna_analise_layout_type_x_preco)"
   ]
  },
  {
   "cell_type": "code",
   "execution_count": null,
   "metadata": {},
   "outputs": [],
   "source": [
    "df.groupby(coluna_analise_layout_type_x_preco)['price'].mean().plot(kind='pie', rot=0, figsize=(15,5))"
   ]
  },
  {
   "cell_type": "markdown",
   "metadata": {},
   "source": [
    "#### Coluna - 'property_type' x 'price'"
   ]
  },
  {
   "cell_type": "code",
   "execution_count": null,
   "metadata": {},
   "outputs": [],
   "source": [
    "coluna_analise_property_type_x_preco = 'property_type'\n",
    "\n",
    "statis = analise_preco(coluna_analise_property_type_x_preco)\n",
    "print(statis)\n",
    "\n",
    "\n",
    "df.plot(kind='scatter', x='price', y=coluna_analise_property_type_x_preco)"
   ]
  },
  {
   "cell_type": "code",
   "execution_count": null,
   "metadata": {},
   "outputs": [],
   "source": [
    "df.groupby(coluna_analise_property_type)['price'].mean().plot(kind='pie', rot=0, figsize=(15,5))"
   ]
  },
  {
   "cell_type": "markdown",
   "metadata": {},
   "source": [
    "## Algoritmo de associação"
   ]
  },
  {
   "cell_type": "code",
   "execution_count": null,
   "metadata": {},
   "outputs": [],
   "source": [
    "df['property_location'] = df['locality'] + ', ' + df['property_type']"
   ]
  },
  {
   "cell_type": "code",
   "execution_count": null,
   "metadata": {},
   "outputs": [],
   "source": [
    "df['property_location']"
   ]
  },
  {
   "cell_type": "code",
   "execution_count": null,
   "metadata": {},
   "outputs": [],
   "source": [
    "data = list(df['property_location'].apply(lambda x:x.split(\",\") ))"
   ]
  },
  {
   "cell_type": "code",
   "execution_count": null,
   "metadata": {},
   "outputs": [],
   "source": [
    "encoder = TransactionEncoder()\n",
    "\n",
    "df_encoded = encoder.fit(data).transform(data)\n",
    "df_encoded = pd.DataFrame(df_encoded, columns=encoder.columns_)\n",
    "df_encoded"
   ]
  },
  {
   "cell_type": "code",
   "execution_count": null,
   "metadata": {},
   "outputs": [],
   "source": [
    "df_encoded = df_encoded.replace({False: 0, True: 1})\n",
    "df_encoded"
   ]
  },
  {
   "cell_type": "code",
   "execution_count": null,
   "metadata": {},
   "outputs": [],
   "source": [
    "df_apriori = apriori(df_encoded, 0.001, use_colnames = True)\n",
    "df_apriori"
   ]
  },
  {
   "cell_type": "code",
   "execution_count": null,
   "metadata": {},
   "outputs": [],
   "source": [
    "df_ar = association_rules(df_apriori, metric=\"confidence\", min_threshold=0.6)\n",
    "df_ar\n",
    "df_ar.sort_values(by='confidence', ascending=False)"
   ]
  },
  {
   "cell_type": "markdown",
   "metadata": {},
   "source": [
    "#### Indicações de anomalias"
   ]
  },
  {
   "cell_type": "markdown",
   "metadata": {},
   "source": [
    "Analisando os 5 primeiros registros: \n",
    "\n",
    "* Em Iyappanthangal, a probabilidade do tipo de proriedade alugada ser um apartamento é de 48%\n",
    "* 0.2% dos aluguéis da Índia estão em Topsia\n",
    "* A confiança indica que 100% de quem aluga em Gariahat, faz o aluguel de um apartamento\n",
    "* Aluguéis em Telecom Nagar representam 0.23% do total do país, e dentro desse valor, 68% são apartamentos\n",
    "* O suporte entre tipo de propriedade 'apartamento' e a cidade 'Tangra'\n",
    "indica 0.5% "
   ]
  },
  {
   "cell_type": "markdown",
   "metadata": {},
   "source": [
    "###"
   ]
  }
 ],
 "metadata": {
  "kernelspec": {
   "display_name": "Python 3.10.8 64-bit (microsoft store)",
   "language": "python",
   "name": "python3"
  },
  "language_info": {
   "codemirror_mode": {
    "name": "ipython",
    "version": 3
   },
   "file_extension": ".py",
   "mimetype": "text/x-python",
   "name": "python",
   "nbconvert_exporter": "python",
   "pygments_lexer": "ipython3",
   "version": "3.10.8"
  },
  "orig_nbformat": 4,
  "vscode": {
   "interpreter": {
    "hash": "1411826be7eae97a21cd32c3ad68577137fa7ead80dc4d38e556535e3b8866d8"
   }
  }
 },
 "nbformat": 4,
 "nbformat_minor": 2
}
