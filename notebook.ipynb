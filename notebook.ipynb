{
 "cells": [
  {
   "cell_type": "code",
   "execution_count": 30,
   "metadata": {},
   "outputs": [],
   "source": [
    "import pandas as pd\n",
    "import numpy as np\n",
    "import statistics as st"
   ]
  },
  {
   "cell_type": "code",
   "execution_count": 61,
   "metadata": {
    "tags": []
   },
   "outputs": [],
   "source": [
    "chennai_df = pd.read_csv('Chennai.csv')\n",
    "chennai_df['dataset'] = 'Chennai'\n",
    "\n",
    "hyderabad_df = pd.read_csv('Hyderabad.csv')\n",
    "hyderabad_df['dataset'] = 'Hydebarad'\n",
    "\n",
    "kolkata_df = pd.read_csv('Kolkata.csv')\n",
    "kolkata_df['dataset'] = 'Kolkata'"
   ]
  },
  {
   "cell_type": "code",
   "execution_count": 32,
   "metadata": {},
   "outputs": [
    {
     "data": {
      "text/html": [
       "<div>\n",
       "<style scoped>\n",
       "    .dataframe tbody tr th:only-of-type {\n",
       "        vertical-align: middle;\n",
       "    }\n",
       "\n",
       "    .dataframe tbody tr th {\n",
       "        vertical-align: top;\n",
       "    }\n",
       "\n",
       "    .dataframe thead th {\n",
       "        text-align: right;\n",
       "    }\n",
       "</style>\n",
       "<table border=\"1\" class=\"dataframe\">\n",
       "  <thead>\n",
       "    <tr style=\"text-align: right;\">\n",
       "      <th></th>\n",
       "      <th>seller_type</th>\n",
       "      <th>bedroom</th>\n",
       "      <th>layout_type</th>\n",
       "      <th>property_type</th>\n",
       "      <th>locality</th>\n",
       "      <th>price</th>\n",
       "      <th>area</th>\n",
       "      <th>furnish_type</th>\n",
       "      <th>bathroom</th>\n",
       "      <th>dataset</th>\n",
       "    </tr>\n",
       "  </thead>\n",
       "  <tbody>\n",
       "    <tr>\n",
       "      <th>0</th>\n",
       "      <td>OWNER</td>\n",
       "      <td>3.0</td>\n",
       "      <td>BHK</td>\n",
       "      <td>Apartment</td>\n",
       "      <td>Ambattur</td>\n",
       "      <td>17,000</td>\n",
       "      <td>1570.0</td>\n",
       "      <td>Semi-Furnished</td>\n",
       "      <td>2 bathrooms</td>\n",
       "      <td>Chennai</td>\n",
       "    </tr>\n",
       "    <tr>\n",
       "      <th>1</th>\n",
       "      <td>OWNER</td>\n",
       "      <td>2.0</td>\n",
       "      <td>BHK</td>\n",
       "      <td>Apartment</td>\n",
       "      <td>Kelambakkam</td>\n",
       "      <td>16,000</td>\n",
       "      <td>1402.0</td>\n",
       "      <td>Semi-Furnished</td>\n",
       "      <td>2 bathrooms</td>\n",
       "      <td>Chennai</td>\n",
       "    </tr>\n",
       "    <tr>\n",
       "      <th>2</th>\n",
       "      <td>OWNER</td>\n",
       "      <td>2.0</td>\n",
       "      <td>BHK</td>\n",
       "      <td>Apartment</td>\n",
       "      <td>Adyar</td>\n",
       "      <td>20,000</td>\n",
       "      <td>800.0</td>\n",
       "      <td>Semi-Furnished</td>\n",
       "      <td>2 bathrooms</td>\n",
       "      <td>Chennai</td>\n",
       "    </tr>\n",
       "    <tr>\n",
       "      <th>3</th>\n",
       "      <td>OWNER</td>\n",
       "      <td>2.0</td>\n",
       "      <td>BHK</td>\n",
       "      <td>Apartment</td>\n",
       "      <td>Sembakkam</td>\n",
       "      <td>14,000</td>\n",
       "      <td>1180.0</td>\n",
       "      <td>Unfurnished</td>\n",
       "      <td>2 bathrooms</td>\n",
       "      <td>Chennai</td>\n",
       "    </tr>\n",
       "    <tr>\n",
       "      <th>4</th>\n",
       "      <td>OWNER</td>\n",
       "      <td>1.0</td>\n",
       "      <td>BHK</td>\n",
       "      <td>Independent House</td>\n",
       "      <td>Mogappair</td>\n",
       "      <td>7,000</td>\n",
       "      <td>400.0</td>\n",
       "      <td>Unfurnished</td>\n",
       "      <td>1 bathrooms</td>\n",
       "      <td>Chennai</td>\n",
       "    </tr>\n",
       "  </tbody>\n",
       "</table>\n",
       "</div>"
      ],
      "text/plain": [
       "  seller_type  bedroom layout_type      property_type     locality   price  \\\n",
       "0       OWNER      3.0         BHK          Apartment     Ambattur  17,000   \n",
       "1       OWNER      2.0         BHK          Apartment  Kelambakkam  16,000   \n",
       "2       OWNER      2.0         BHK          Apartment        Adyar  20,000   \n",
       "3       OWNER      2.0         BHK          Apartment    Sembakkam  14,000   \n",
       "4       OWNER      1.0         BHK  Independent House    Mogappair   7,000   \n",
       "\n",
       "     area    furnish_type     bathroom  dataset  \n",
       "0  1570.0  Semi-Furnished  2 bathrooms  Chennai  \n",
       "1  1402.0  Semi-Furnished  2 bathrooms  Chennai  \n",
       "2   800.0  Semi-Furnished  2 bathrooms  Chennai  \n",
       "3  1180.0     Unfurnished  2 bathrooms  Chennai  \n",
       "4   400.0     Unfurnished  1 bathrooms  Chennai  "
      ]
     },
     "execution_count": 32,
     "metadata": {},
     "output_type": "execute_result"
    }
   ],
   "source": [
    "chennai_df.head()"
   ]
  },
  {
   "cell_type": "code",
   "execution_count": 33,
   "metadata": {},
   "outputs": [
    {
     "data": {
      "text/html": [
       "<div>\n",
       "<style scoped>\n",
       "    .dataframe tbody tr th:only-of-type {\n",
       "        vertical-align: middle;\n",
       "    }\n",
       "\n",
       "    .dataframe tbody tr th {\n",
       "        vertical-align: top;\n",
       "    }\n",
       "\n",
       "    .dataframe thead th {\n",
       "        text-align: right;\n",
       "    }\n",
       "</style>\n",
       "<table border=\"1\" class=\"dataframe\">\n",
       "  <thead>\n",
       "    <tr style=\"text-align: right;\">\n",
       "      <th></th>\n",
       "      <th>seller_type</th>\n",
       "      <th>bedroom</th>\n",
       "      <th>layout_type</th>\n",
       "      <th>property_type</th>\n",
       "      <th>locality</th>\n",
       "      <th>price</th>\n",
       "      <th>area</th>\n",
       "      <th>furnish_type</th>\n",
       "      <th>bathroom</th>\n",
       "      <th>dataset</th>\n",
       "    </tr>\n",
       "  </thead>\n",
       "  <tbody>\n",
       "    <tr>\n",
       "      <th>0</th>\n",
       "      <td>OWNER</td>\n",
       "      <td>1</td>\n",
       "      <td>RK</td>\n",
       "      <td>Studio Apartment</td>\n",
       "      <td>Serilingampally</td>\n",
       "      <td>6,720</td>\n",
       "      <td>320</td>\n",
       "      <td>Furnished</td>\n",
       "      <td>1 bathrooms</td>\n",
       "      <td>Hydebarad</td>\n",
       "    </tr>\n",
       "    <tr>\n",
       "      <th>1</th>\n",
       "      <td>OWNER</td>\n",
       "      <td>5</td>\n",
       "      <td>BHK</td>\n",
       "      <td>Villa</td>\n",
       "      <td>Sri Nagar Colony</td>\n",
       "      <td>36,000</td>\n",
       "      <td>3000</td>\n",
       "      <td>Semi-Furnished</td>\n",
       "      <td>4 bathrooms</td>\n",
       "      <td>Hydebarad</td>\n",
       "    </tr>\n",
       "    <tr>\n",
       "      <th>2</th>\n",
       "      <td>OWNER</td>\n",
       "      <td>2</td>\n",
       "      <td>BHK</td>\n",
       "      <td>Independent House</td>\n",
       "      <td>Shaikpet</td>\n",
       "      <td>11,000</td>\n",
       "      <td>900</td>\n",
       "      <td>Semi-Furnished</td>\n",
       "      <td>2 bathrooms</td>\n",
       "      <td>Hydebarad</td>\n",
       "    </tr>\n",
       "    <tr>\n",
       "      <th>3</th>\n",
       "      <td>OWNER</td>\n",
       "      <td>3</td>\n",
       "      <td>BHK</td>\n",
       "      <td>Apartment</td>\n",
       "      <td>Nanakramguda</td>\n",
       "      <td>45,000</td>\n",
       "      <td>2165</td>\n",
       "      <td>Unfurnished</td>\n",
       "      <td>3 bathrooms</td>\n",
       "      <td>Hydebarad</td>\n",
       "    </tr>\n",
       "    <tr>\n",
       "      <th>4</th>\n",
       "      <td>OWNER</td>\n",
       "      <td>3</td>\n",
       "      <td>BHK</td>\n",
       "      <td>Apartment</td>\n",
       "      <td>Kondapur</td>\n",
       "      <td>20,000</td>\n",
       "      <td>1600</td>\n",
       "      <td>Semi-Furnished</td>\n",
       "      <td>3 bathrooms</td>\n",
       "      <td>Hydebarad</td>\n",
       "    </tr>\n",
       "  </tbody>\n",
       "</table>\n",
       "</div>"
      ],
      "text/plain": [
       "  seller_type  bedroom layout_type      property_type          locality  \\\n",
       "0       OWNER        1          RK   Studio Apartment   Serilingampally   \n",
       "1       OWNER        5         BHK              Villa  Sri Nagar Colony   \n",
       "2       OWNER        2         BHK  Independent House          Shaikpet   \n",
       "3       OWNER        3         BHK          Apartment      Nanakramguda   \n",
       "4       OWNER        3         BHK          Apartment          Kondapur   \n",
       "\n",
       "    price  area    furnish_type     bathroom    dataset  \n",
       "0   6,720   320       Furnished  1 bathrooms  Hydebarad  \n",
       "1  36,000  3000  Semi-Furnished  4 bathrooms  Hydebarad  \n",
       "2  11,000   900  Semi-Furnished  2 bathrooms  Hydebarad  \n",
       "3  45,000  2165     Unfurnished  3 bathrooms  Hydebarad  \n",
       "4  20,000  1600  Semi-Furnished  3 bathrooms  Hydebarad  "
      ]
     },
     "execution_count": 33,
     "metadata": {},
     "output_type": "execute_result"
    }
   ],
   "source": [
    "hyderabad_df.head()"
   ]
  },
  {
   "cell_type": "code",
   "execution_count": 34,
   "metadata": {},
   "outputs": [
    {
     "data": {
      "text/html": [
       "<div>\n",
       "<style scoped>\n",
       "    .dataframe tbody tr th:only-of-type {\n",
       "        vertical-align: middle;\n",
       "    }\n",
       "\n",
       "    .dataframe tbody tr th {\n",
       "        vertical-align: top;\n",
       "    }\n",
       "\n",
       "    .dataframe thead th {\n",
       "        text-align: right;\n",
       "    }\n",
       "</style>\n",
       "<table border=\"1\" class=\"dataframe\">\n",
       "  <thead>\n",
       "    <tr style=\"text-align: right;\">\n",
       "      <th></th>\n",
       "      <th>seller_type</th>\n",
       "      <th>bedroom</th>\n",
       "      <th>layout_type</th>\n",
       "      <th>property_type</th>\n",
       "      <th>locality</th>\n",
       "      <th>price</th>\n",
       "      <th>area</th>\n",
       "      <th>furnish_type</th>\n",
       "      <th>bathroom</th>\n",
       "      <th>dataset</th>\n",
       "    </tr>\n",
       "  </thead>\n",
       "  <tbody>\n",
       "    <tr>\n",
       "      <th>0</th>\n",
       "      <td>OWNER</td>\n",
       "      <td>2</td>\n",
       "      <td>BHK</td>\n",
       "      <td>Independent Floor</td>\n",
       "      <td>Sodepur</td>\n",
       "      <td>6,000</td>\n",
       "      <td>600</td>\n",
       "      <td>Unfurnished</td>\n",
       "      <td>1 bathrooms</td>\n",
       "      <td>Kolkata</td>\n",
       "    </tr>\n",
       "    <tr>\n",
       "      <th>1</th>\n",
       "      <td>OWNER</td>\n",
       "      <td>1</td>\n",
       "      <td>RK</td>\n",
       "      <td>Studio Apartment</td>\n",
       "      <td>south dum dum</td>\n",
       "      <td>4,000</td>\n",
       "      <td>150</td>\n",
       "      <td>Semi-Furnished</td>\n",
       "      <td>1 bathrooms</td>\n",
       "      <td>Kolkata</td>\n",
       "    </tr>\n",
       "    <tr>\n",
       "      <th>2</th>\n",
       "      <td>OWNER</td>\n",
       "      <td>1</td>\n",
       "      <td>RK</td>\n",
       "      <td>Studio Apartment</td>\n",
       "      <td>Sector 22</td>\n",
       "      <td>6,500</td>\n",
       "      <td>350</td>\n",
       "      <td>Semi-Furnished</td>\n",
       "      <td>1 bathrooms</td>\n",
       "      <td>Kolkata</td>\n",
       "    </tr>\n",
       "    <tr>\n",
       "      <th>3</th>\n",
       "      <td>OWNER</td>\n",
       "      <td>9</td>\n",
       "      <td>BHK</td>\n",
       "      <td>Independent House</td>\n",
       "      <td>Lake Gardens</td>\n",
       "      <td>1.5</td>\n",
       "      <td>6500</td>\n",
       "      <td>Unfurnished</td>\n",
       "      <td>6 bathrooms</td>\n",
       "      <td>Kolkata</td>\n",
       "    </tr>\n",
       "    <tr>\n",
       "      <th>4</th>\n",
       "      <td>OWNER</td>\n",
       "      <td>3</td>\n",
       "      <td>BHK</td>\n",
       "      <td>Independent House</td>\n",
       "      <td>Dhapa</td>\n",
       "      <td>26,000</td>\n",
       "      <td>1200</td>\n",
       "      <td>Furnished</td>\n",
       "      <td>2 bathrooms</td>\n",
       "      <td>Kolkata</td>\n",
       "    </tr>\n",
       "  </tbody>\n",
       "</table>\n",
       "</div>"
      ],
      "text/plain": [
       "  seller_type  bedroom layout_type      property_type       locality   price  \\\n",
       "0       OWNER        2         BHK  Independent Floor        Sodepur   6,000   \n",
       "1       OWNER        1          RK   Studio Apartment  south dum dum   4,000   \n",
       "2       OWNER        1          RK   Studio Apartment      Sector 22   6,500   \n",
       "3       OWNER        9         BHK  Independent House   Lake Gardens     1.5   \n",
       "4       OWNER        3         BHK  Independent House          Dhapa  26,000   \n",
       "\n",
       "   area    furnish_type     bathroom  dataset  \n",
       "0   600     Unfurnished  1 bathrooms  Kolkata  \n",
       "1   150  Semi-Furnished  1 bathrooms  Kolkata  \n",
       "2   350  Semi-Furnished  1 bathrooms  Kolkata  \n",
       "3  6500     Unfurnished  6 bathrooms  Kolkata  \n",
       "4  1200       Furnished  2 bathrooms  Kolkata  "
      ]
     },
     "execution_count": 34,
     "metadata": {},
     "output_type": "execute_result"
    }
   ],
   "source": [
    "kolkata_df.head()"
   ]
  },
  {
   "cell_type": "code",
   "execution_count": 62,
   "metadata": {},
   "outputs": [],
   "source": [
    "df = pd.concat([chennai_df, hyderabad_df, kolkata_df])"
   ]
  },
  {
   "cell_type": "code",
   "execution_count": 36,
   "metadata": {},
   "outputs": [
    {
     "data": {
      "text/html": [
       "<div>\n",
       "<style scoped>\n",
       "    .dataframe tbody tr th:only-of-type {\n",
       "        vertical-align: middle;\n",
       "    }\n",
       "\n",
       "    .dataframe tbody tr th {\n",
       "        vertical-align: top;\n",
       "    }\n",
       "\n",
       "    .dataframe thead th {\n",
       "        text-align: right;\n",
       "    }\n",
       "</style>\n",
       "<table border=\"1\" class=\"dataframe\">\n",
       "  <thead>\n",
       "    <tr style=\"text-align: right;\">\n",
       "      <th></th>\n",
       "      <th>seller_type</th>\n",
       "      <th>bedroom</th>\n",
       "      <th>layout_type</th>\n",
       "      <th>property_type</th>\n",
       "      <th>locality</th>\n",
       "      <th>price</th>\n",
       "      <th>area</th>\n",
       "      <th>furnish_type</th>\n",
       "      <th>bathroom</th>\n",
       "      <th>dataset</th>\n",
       "    </tr>\n",
       "  </thead>\n",
       "  <tbody>\n",
       "    <tr>\n",
       "      <th>0</th>\n",
       "      <td>OWNER</td>\n",
       "      <td>3.0</td>\n",
       "      <td>BHK</td>\n",
       "      <td>Apartment</td>\n",
       "      <td>Ambattur</td>\n",
       "      <td>17,000</td>\n",
       "      <td>1570.0</td>\n",
       "      <td>Semi-Furnished</td>\n",
       "      <td>2 bathrooms</td>\n",
       "      <td>Chennai</td>\n",
       "    </tr>\n",
       "    <tr>\n",
       "      <th>1</th>\n",
       "      <td>OWNER</td>\n",
       "      <td>2.0</td>\n",
       "      <td>BHK</td>\n",
       "      <td>Apartment</td>\n",
       "      <td>Kelambakkam</td>\n",
       "      <td>16,000</td>\n",
       "      <td>1402.0</td>\n",
       "      <td>Semi-Furnished</td>\n",
       "      <td>2 bathrooms</td>\n",
       "      <td>Chennai</td>\n",
       "    </tr>\n",
       "    <tr>\n",
       "      <th>2</th>\n",
       "      <td>OWNER</td>\n",
       "      <td>2.0</td>\n",
       "      <td>BHK</td>\n",
       "      <td>Apartment</td>\n",
       "      <td>Adyar</td>\n",
       "      <td>20,000</td>\n",
       "      <td>800.0</td>\n",
       "      <td>Semi-Furnished</td>\n",
       "      <td>2 bathrooms</td>\n",
       "      <td>Chennai</td>\n",
       "    </tr>\n",
       "    <tr>\n",
       "      <th>3</th>\n",
       "      <td>OWNER</td>\n",
       "      <td>2.0</td>\n",
       "      <td>BHK</td>\n",
       "      <td>Apartment</td>\n",
       "      <td>Sembakkam</td>\n",
       "      <td>14,000</td>\n",
       "      <td>1180.0</td>\n",
       "      <td>Unfurnished</td>\n",
       "      <td>2 bathrooms</td>\n",
       "      <td>Chennai</td>\n",
       "    </tr>\n",
       "    <tr>\n",
       "      <th>4</th>\n",
       "      <td>OWNER</td>\n",
       "      <td>1.0</td>\n",
       "      <td>BHK</td>\n",
       "      <td>Independent House</td>\n",
       "      <td>Mogappair</td>\n",
       "      <td>7,000</td>\n",
       "      <td>400.0</td>\n",
       "      <td>Unfurnished</td>\n",
       "      <td>1 bathrooms</td>\n",
       "      <td>Chennai</td>\n",
       "    </tr>\n",
       "  </tbody>\n",
       "</table>\n",
       "</div>"
      ],
      "text/plain": [
       "  seller_type  bedroom layout_type      property_type     locality   price  \\\n",
       "0       OWNER      3.0         BHK          Apartment     Ambattur  17,000   \n",
       "1       OWNER      2.0         BHK          Apartment  Kelambakkam  16,000   \n",
       "2       OWNER      2.0         BHK          Apartment        Adyar  20,000   \n",
       "3       OWNER      2.0         BHK          Apartment    Sembakkam  14,000   \n",
       "4       OWNER      1.0         BHK  Independent House    Mogappair   7,000   \n",
       "\n",
       "     area    furnish_type     bathroom  dataset  \n",
       "0  1570.0  Semi-Furnished  2 bathrooms  Chennai  \n",
       "1  1402.0  Semi-Furnished  2 bathrooms  Chennai  \n",
       "2   800.0  Semi-Furnished  2 bathrooms  Chennai  \n",
       "3  1180.0     Unfurnished  2 bathrooms  Chennai  \n",
       "4   400.0     Unfurnished  1 bathrooms  Chennai  "
      ]
     },
     "execution_count": 36,
     "metadata": {},
     "output_type": "execute_result"
    }
   ],
   "source": [
    "df.head()"
   ]
  },
  {
   "cell_type": "code",
   "execution_count": 63,
   "metadata": {},
   "outputs": [
    {
     "name": "stdout",
     "output_type": "stream",
     "text": [
      "<class 'pandas.core.frame.DataFrame'>\n",
      "Int64Index: 29940 entries, 0 to 9899\n",
      "Data columns (total 10 columns):\n",
      " #   Column         Non-Null Count  Dtype  \n",
      "---  ------         --------------  -----  \n",
      " 0   seller_type    29456 non-null  object \n",
      " 1   bedroom        29457 non-null  float64\n",
      " 2   layout_type    29457 non-null  object \n",
      " 3   property_type  29457 non-null  object \n",
      " 4   locality       29457 non-null  object \n",
      " 5   price          29457 non-null  object \n",
      " 6   area           29457 non-null  float64\n",
      " 7   furnish_type   29457 non-null  object \n",
      " 8   bathroom       28945 non-null  object \n",
      " 9   dataset        29940 non-null  object \n",
      "dtypes: float64(2), object(8)\n",
      "memory usage: 2.5+ MB\n"
     ]
    }
   ],
   "source": [
    "df.info()"
   ]
  },
  {
   "cell_type": "code",
   "execution_count": 58,
   "metadata": {},
   "outputs": [],
   "source": [
    "df['property_type'] = df['property_type'].astype(str)\n",
    "df['bathroom'] = df['bathroom'].str.replace('bathrooms', '')\n",
    "df['price'] = df['price'].str.replace(',', '')\n",
    "df['price'] = df['price'].astype(np.float64)"
   ]
  },
  {
   "cell_type": "markdown",
   "metadata": {},
   "source": [
    "### Apaga todos os registros que tem valores nulos"
   ]
  },
  {
   "cell_type": "code",
   "execution_count": 40,
   "metadata": {},
   "outputs": [],
   "source": [
    "def drop_null_rows(columns):\n",
    "    for column in columns:\n",
    "        df.drop(df[df[column].isnull()].index.tolist(), axis=0, inplace=True)"
   ]
  },
  {
   "cell_type": "code",
   "execution_count": 41,
   "metadata": {},
   "outputs": [],
   "source": [
    "drop_null_rows(list(df.columns))"
   ]
  },
  {
   "cell_type": "markdown",
   "metadata": {},
   "source": [
    "### Análise numérica de estatísticas descritivas"
   ]
  },
  {
   "cell_type": "code",
   "execution_count": 52,
   "metadata": {},
   "outputs": [],
   "source": [
    "def arredondar_float(num):\n",
    "    return '{:.2f}'.format(num)"
   ]
  },
  {
   "cell_type": "code",
   "execution_count": 53,
   "metadata": {},
   "outputs": [],
   "source": [
    "def analise_desc_num(coluna):\n",
    "    global df\n",
    "    \n",
    "    dct_retorno = {}    \n",
    "    s_coluna = df[coluna].value_counts()\n",
    "    \n",
    "    media = st.mean(s_coluna)\n",
    "    moda = st.mode(s_coluna)\n",
    "    mediana = st.median(s_coluna)\n",
    "    desvio_padrao = st.stdev(s_coluna)\n",
    "    quartis = st.quantiles(s_coluna)\n",
    "    \n",
    "    dct_retorno['MEDIA'] = arredondar_float(media)\n",
    "    dct_retorno['MODA'] = moda\n",
    "    dct_retorno['MEDIANA'] = mediana\n",
    "    dct_retorno['DESVIO PADRAO'] = arredondar_float(desvio_padrao)\n",
    "    dct_retorno['QUARTIS'] = quartis    \n",
    "    \n",
    "    return dct_retorno\n",
    "    "
   ]
  },
  {
   "cell_type": "markdown",
   "metadata": {},
   "source": [
    "#### Coluna - 'seller_type'"
   ]
  },
  {
   "cell_type": "code",
   "execution_count": 64,
   "metadata": {},
   "outputs": [
    {
     "data": {
      "text/plain": [
       "{'MEDIA': '9818.67',\n",
       " 'MODA': 16164,\n",
       " 'MEDIANA': 13149,\n",
       " 'DESVIO PADRAO': '8513.90',\n",
       " 'QUARTIS': [143.0, 13149.0, 16164.0]}"
      ]
     },
     "execution_count": 64,
     "metadata": {},
     "output_type": "execute_result"
    },
    {
     "data": {
      "image/png": "[encoded data removed]",
      "text/plain": [
       "<Figure size 640x480 with 1 Axes>"
      ]
     },
     "metadata": {},
     "output_type": "display_data"
    }
   ],
   "source": [
    "coluna_analise = 'seller_type'\n",
    "\n",
    "statis = analise_desc_num(coluna_analise)\n",
    "\n",
    "df[coluna_analise].value_counts().plot(kind='bar')\n",
    "statis"
   ]
  },
  {
   "cell_type": "markdown",
   "metadata": {},
   "source": [
    "#### Coluna - 'layout_type'"
   ]
  },
  {
   "cell_type": "code",
   "execution_count": 45,
   "metadata": {},
   "outputs": [
    {
     "name": "stdout",
     "output_type": "stream",
     "text": [
      "{'MEDIA': '%0.3f', 'MODA': 25851, 'MEDIANA': 13534.0, 'DESVIO PADRAO': 17418.868447749413, 'QUARTIS': [-4941.5, 13534.0, 32009.5]}\n"
     ]
    },
    {
     "data": {
      "text/plain": [
       "<AxesSubplot: >"
      ]
     },
     "execution_count": 45,
     "metadata": {},
     "output_type": "execute_result"
    },
    {
     "data": {
      "image/png": "[encoded data removed]",
      "text/plain": [
       "<Figure size 640x480 with 1 Axes>"
      ]
     },
     "metadata": {},
     "output_type": "display_data"
    }
   ],
   "source": [
    "coluna_analise = 'layout_type'\n",
    "\n",
    "statis = analise_desc_num(coluna_analise)\n",
    "\n",
    "print(statis)\n",
    "df[coluna_analise].value_counts().plot(kind='bar')"
   ]
  },
  {
   "cell_type": "markdown",
   "metadata": {},
   "source": [
    "#### Coluna - 'property_type'"
   ]
  },
  {
   "cell_type": "code",
   "execution_count": 46,
   "metadata": {},
   "outputs": [
    {
     "name": "stdout",
     "output_type": "stream",
     "text": [
      "{'MEDIA': '%0.3f', 'MODA': 18288, 'MEDIANA': 2199.5, 'DESVIO PADRAO': 6924.300041640792, 'QUARTIS': [316.5, 2199.5, 7535.25]}\n"
     ]
    },
    {
     "data": {
      "text/plain": [
       "<AxesSubplot: >"
      ]
     },
     "execution_count": 46,
     "metadata": {},
     "output_type": "execute_result"
    },
    {
     "data": {
      "image/png": "[encoded data removed]",
      "text/plain": [
       "<Figure size 640x480 with 1 Axes>"
      ]
     },
     "metadata": {},
     "output_type": "display_data"
    }
   ],
   "source": [
    "coluna_analise = 'property_type'\n",
    "\n",
    "statis = analise_desc_num(coluna_analise)\n",
    "\n",
    "print(statis)\n",
    "df[coluna_analise].value_counts().plot(kind='bar')"
   ]
  }
 ],
 "metadata": {
  "kernelspec": {
   "display_name": "Python 3.10.5 64-bit",
   "language": "python",
   "name": "python3"
  },
  "language_info": {
   "codemirror_mode": {
    "name": "ipython",
    "version": 3
   },
   "file_extension": ".py",
   "mimetype": "text/x-python",
   "name": "python",
   "nbconvert_exporter": "python",
   "pygments_lexer": "ipython3",
   "version": "3.10.5"
  },
  "orig_nbformat": 4,
  "vscode": {
   "interpreter": {
    "hash": "369f2c481f4da34e4445cda3fffd2e751bd1c4d706f27375911949ba6bb62e1c"
   }
  }
 },
 "nbformat": 4,
 "nbformat_minor": 2
}
