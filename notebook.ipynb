{
 "cells": [
  {
   "cell_type": "code",
   "execution_count": 271,
   "metadata": {},
   "outputs": [],
   "source": [
    "import pandas as pd\n",
    "import numpy as np"
   ]
  },
  {
   "cell_type": "code",
   "execution_count": 272,
   "metadata": {
    "tags": []
   },
   "outputs": [],
   "source": [
    "chennai_df = pd.read_csv('Chennai.csv')\n",
    "chennai_df['dataset'] = 'Chennai'\n",
    "\n",
    "hyderabad_df = pd.read_csv('Hyderabad.csv')\n",
    "hyderabad_df['dataset'] = 'Hydebarad'\n",
    "\n",
    "kolkata_df = pd.read_csv('Kolkata.csv')\n",
    "kolkata_df['dataset'] = 'Kolkata'"
   ]
  },
  {
   "cell_type": "code",
   "execution_count": 273,
   "metadata": {},
   "outputs": [],
   "source": [
    "df = pd.concat([chennai_df, hyderabad_df, kolkata_df])"
   ]
  },
  {
   "cell_type": "code",
   "execution_count": 274,
   "metadata": {},
   "outputs": [],
   "source": [
    "df['property_type'] = df['property_type'].astype(str)"
   ]
  },
  {
   "cell_type": "code",
   "execution_count": 275,
   "metadata": {},
   "outputs": [],
   "source": [
    "def drop_null_rows(columns):\n",
    "    for column in columns:\n",
    "        df.drop(df[df[column].isnull()].index.tolist(), axis=0, inplace=True)"
   ]
  },
  {
   "cell_type": "code",
   "execution_count": 276,
   "metadata": {},
   "outputs": [],
   "source": [
    "df['bathroom'] = df['bathroom'].str.replace('bathrooms', '')"
   ]
  },
  {
   "cell_type": "code",
   "execution_count": 277,
   "metadata": {},
   "outputs": [],
   "source": [
    "drop_null_rows(['seller_type', 'bathroom'])"
   ]
  },
  {
   "cell_type": "code",
   "execution_count": 278,
   "metadata": {},
   "outputs": [
    {
     "name": "stdout",
     "output_type": "stream",
     "text": [
      "<class 'pandas.core.frame.DataFrame'>\n",
      "Int64Index: 27068 entries, 0 to 9899\n",
      "Data columns (total 10 columns):\n",
      " #   Column         Non-Null Count  Dtype  \n",
      "---  ------         --------------  -----  \n",
      " 0   seller_type    27068 non-null  object \n",
      " 1   bedroom        27068 non-null  float64\n",
      " 2   layout_type    27068 non-null  object \n",
      " 3   property_type  27068 non-null  object \n",
      " 4   locality       27068 non-null  object \n",
      " 5   price          27068 non-null  object \n",
      " 6   area           27068 non-null  float64\n",
      " 7   furnish_type   27068 non-null  object \n",
      " 8   bathroom       27068 non-null  object \n",
      " 9   dataset        27068 non-null  object \n",
      "dtypes: float64(2), object(8)\n",
      "memory usage: 2.3+ MB\n"
     ]
    }
   ],
   "source": [
    "df.info()"
   ]
  },
  {
   "cell_type": "markdown",
   "metadata": {},
   "source": []
  }
 ],
 "metadata": {
  "kernelspec": {
   "display_name": "Python 3.10.8 64-bit (microsoft store)",
   "language": "python",
   "name": "python3"
  },
  "language_info": {
   "codemirror_mode": {
    "name": "ipython",
    "version": 3
   },
   "file_extension": ".py",
   "mimetype": "text/x-python",
   "name": "python",
   "nbconvert_exporter": "python",
   "pygments_lexer": "ipython3",
   "version": "3.10.8"
  },
  "orig_nbformat": 4,
  "vscode": {
   "interpreter": {
    "hash": "1411826be7eae97a21cd32c3ad68577137fa7ead80dc4d38e556535e3b8866d8"
   }
  }
 },
 "nbformat": 4,
 "nbformat_minor": 2
}
