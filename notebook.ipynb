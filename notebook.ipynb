{
 "cells": [
  {
   "cell_type": "code",
   "execution_count": 102,
   "metadata": {},
   "outputs": [],
   "source": [
    "# https://www.kaggle.com/datasets/saisaathvik/house-rent-prices-of-metropolitan-cities-in-india?select=Kolkata_rent.csv"
   ]
  },
  {
   "cell_type": "code",
   "execution_count": 103,
   "metadata": {},
   "outputs": [],
   "source": [
    "import pandas as pd\n",
    "import numpy as np\n",
    "import statistics as st"
   ]
  },
  {
   "cell_type": "code",
   "execution_count": 104,
   "metadata": {
    "tags": []
   },
   "outputs": [],
   "source": [
    "chennai_df = pd.read_csv('Chennai.csv')\n",
    "chennai_df['dataset'] = 'Chennai'\n",
    "\n",
    "hyderabad_df = pd.read_csv('Hyderabad.csv')\n",
    "hyderabad_df['dataset'] = 'Hydebarad'\n",
    "\n",
    "kolkata_df = pd.read_csv('Kolkata.csv')\n",
    "kolkata_df['dataset'] = 'Kolkata'"
   ]
  },
  {
   "cell_type": "code",
   "execution_count": 105,
   "metadata": {},
   "outputs": [],
   "source": [
    "#chennai_df.head()"
   ]
  },
  {
   "cell_type": "code",
   "execution_count": 106,
   "metadata": {},
   "outputs": [],
   "source": [
    "#hyderabad_df.head()"
   ]
  },
  {
   "cell_type": "code",
   "execution_count": 107,
   "metadata": {},
   "outputs": [],
   "source": [
    "#kolkata_df.head()"
   ]
  },
  {
   "cell_type": "code",
   "execution_count": 108,
   "metadata": {},
   "outputs": [],
   "source": [
    "df = pd.concat([chennai_df, hyderabad_df, kolkata_df])"
   ]
  },
  {
   "cell_type": "code",
   "execution_count": 126,
   "metadata": {},
   "outputs": [],
   "source": [
    "#df.info()"
   ]
  },
  {
   "cell_type": "code",
   "execution_count": 110,
   "metadata": {},
   "outputs": [],
   "source": [
    "df['property_type'] = df['property_type'].astype(str)"
   ]
  },
  {
   "cell_type": "code",
   "execution_count": 111,
   "metadata": {},
   "outputs": [],
   "source": [
    "df['bathroom'] = df['bathroom'].str.replace('bathrooms', '')"
   ]
  },
  {
   "cell_type": "code",
   "execution_count": 112,
   "metadata": {},
   "outputs": [],
   "source": [
    "df['price'] = df['price'].str.replace(',', '')\n",
    "df['price'] = df['price'].astype(np.float64)"
   ]
  },
  {
   "cell_type": "markdown",
   "metadata": {},
   "source": [
    "### Apaga todos os registros que tem valores nulos"
   ]
  },
  {
   "cell_type": "code",
   "execution_count": 113,
   "metadata": {},
   "outputs": [],
   "source": [
    "def drop_null_rows(columns):\n",
    "    for column in columns:\n",
    "        df.drop(df[df[column].isnull()].index.tolist(), axis=0, inplace=True)"
   ]
  },
  {
   "cell_type": "code",
   "execution_count": 114,
   "metadata": {},
   "outputs": [],
   "source": [
    "drop_null_rows(list(df.columns))"
   ]
  },
  {
   "cell_type": "markdown",
   "metadata": {},
   "source": [
    "### Análise numérica de estatísticas descritivas"
   ]
  },
  {
   "cell_type": "code",
   "execution_count": 115,
   "metadata": {},
   "outputs": [
    {
     "data": {
      "text/html": [
       "<div>\n",
       "<style scoped>\n",
       "    .dataframe tbody tr th:only-of-type {\n",
       "        vertical-align: middle;\n",
       "    }\n",
       "\n",
       "    .dataframe tbody tr th {\n",
       "        vertical-align: top;\n",
       "    }\n",
       "\n",
       "    .dataframe thead th {\n",
       "        text-align: right;\n",
       "    }\n",
       "</style>\n",
       "<table border=\"1\" class=\"dataframe\">\n",
       "  <thead>\n",
       "    <tr style=\"text-align: right;\">\n",
       "      <th></th>\n",
       "      <th>seller_type</th>\n",
       "      <th>bedroom</th>\n",
       "      <th>layout_type</th>\n",
       "      <th>property_type</th>\n",
       "      <th>locality</th>\n",
       "      <th>price</th>\n",
       "      <th>area</th>\n",
       "      <th>furnish_type</th>\n",
       "      <th>bathroom</th>\n",
       "      <th>dataset</th>\n",
       "    </tr>\n",
       "  </thead>\n",
       "  <tbody>\n",
       "    <tr>\n",
       "      <th>0</th>\n",
       "      <td>OWNER</td>\n",
       "      <td>3.0</td>\n",
       "      <td>BHK</td>\n",
       "      <td>Apartment</td>\n",
       "      <td>Ambattur</td>\n",
       "      <td>17000.0</td>\n",
       "      <td>1570.0</td>\n",
       "      <td>Semi-Furnished</td>\n",
       "      <td>2</td>\n",
       "      <td>Chennai</td>\n",
       "    </tr>\n",
       "    <tr>\n",
       "      <th>1</th>\n",
       "      <td>OWNER</td>\n",
       "      <td>2.0</td>\n",
       "      <td>BHK</td>\n",
       "      <td>Apartment</td>\n",
       "      <td>Kelambakkam</td>\n",
       "      <td>16000.0</td>\n",
       "      <td>1402.0</td>\n",
       "      <td>Semi-Furnished</td>\n",
       "      <td>2</td>\n",
       "      <td>Chennai</td>\n",
       "    </tr>\n",
       "    <tr>\n",
       "      <th>2</th>\n",
       "      <td>OWNER</td>\n",
       "      <td>2.0</td>\n",
       "      <td>BHK</td>\n",
       "      <td>Apartment</td>\n",
       "      <td>Adyar</td>\n",
       "      <td>20000.0</td>\n",
       "      <td>800.0</td>\n",
       "      <td>Semi-Furnished</td>\n",
       "      <td>2</td>\n",
       "      <td>Chennai</td>\n",
       "    </tr>\n",
       "    <tr>\n",
       "      <th>3</th>\n",
       "      <td>OWNER</td>\n",
       "      <td>2.0</td>\n",
       "      <td>BHK</td>\n",
       "      <td>Apartment</td>\n",
       "      <td>Sembakkam</td>\n",
       "      <td>14000.0</td>\n",
       "      <td>1180.0</td>\n",
       "      <td>Unfurnished</td>\n",
       "      <td>2</td>\n",
       "      <td>Chennai</td>\n",
       "    </tr>\n",
       "    <tr>\n",
       "      <th>4</th>\n",
       "      <td>OWNER</td>\n",
       "      <td>1.0</td>\n",
       "      <td>BHK</td>\n",
       "      <td>Independent House</td>\n",
       "      <td>Mogappair</td>\n",
       "      <td>7000.0</td>\n",
       "      <td>400.0</td>\n",
       "      <td>Unfurnished</td>\n",
       "      <td>1</td>\n",
       "      <td>Chennai</td>\n",
       "    </tr>\n",
       "    <tr>\n",
       "      <th>...</th>\n",
       "      <td>...</td>\n",
       "      <td>...</td>\n",
       "      <td>...</td>\n",
       "      <td>...</td>\n",
       "      <td>...</td>\n",
       "      <td>...</td>\n",
       "      <td>...</td>\n",
       "      <td>...</td>\n",
       "      <td>...</td>\n",
       "      <td>...</td>\n",
       "    </tr>\n",
       "    <tr>\n",
       "      <th>9893</th>\n",
       "      <td>OWNER</td>\n",
       "      <td>2.0</td>\n",
       "      <td>BHK</td>\n",
       "      <td>Apartment</td>\n",
       "      <td>Netaji Nagar</td>\n",
       "      <td>13500.0</td>\n",
       "      <td>838.0</td>\n",
       "      <td>Semi-Furnished</td>\n",
       "      <td>2</td>\n",
       "      <td>Kolkata</td>\n",
       "    </tr>\n",
       "    <tr>\n",
       "      <th>9894</th>\n",
       "      <td>OWNER</td>\n",
       "      <td>3.0</td>\n",
       "      <td>BHK</td>\n",
       "      <td>Apartment</td>\n",
       "      <td>Rajarhat</td>\n",
       "      <td>15000.0</td>\n",
       "      <td>1100.0</td>\n",
       "      <td>Semi-Furnished</td>\n",
       "      <td>2</td>\n",
       "      <td>Kolkata</td>\n",
       "    </tr>\n",
       "    <tr>\n",
       "      <th>9896</th>\n",
       "      <td>OWNER</td>\n",
       "      <td>2.0</td>\n",
       "      <td>BHK</td>\n",
       "      <td>Apartment</td>\n",
       "      <td>Baguihati</td>\n",
       "      <td>12000.0</td>\n",
       "      <td>925.0</td>\n",
       "      <td>Semi-Furnished</td>\n",
       "      <td>2</td>\n",
       "      <td>Kolkata</td>\n",
       "    </tr>\n",
       "    <tr>\n",
       "      <th>9898</th>\n",
       "      <td>OWNER</td>\n",
       "      <td>3.0</td>\n",
       "      <td>BHK</td>\n",
       "      <td>Independent Floor</td>\n",
       "      <td>Shibpur</td>\n",
       "      <td>7500.0</td>\n",
       "      <td>960.0</td>\n",
       "      <td>Unfurnished</td>\n",
       "      <td>1</td>\n",
       "      <td>Kolkata</td>\n",
       "    </tr>\n",
       "    <tr>\n",
       "      <th>9899</th>\n",
       "      <td>OWNER</td>\n",
       "      <td>3.0</td>\n",
       "      <td>BHK</td>\n",
       "      <td>Apartment</td>\n",
       "      <td>Kanchrapara Loco</td>\n",
       "      <td>15000.0</td>\n",
       "      <td>1165.0</td>\n",
       "      <td>Furnished</td>\n",
       "      <td>2</td>\n",
       "      <td>Kolkata</td>\n",
       "    </tr>\n",
       "  </tbody>\n",
       "</table>\n",
       "<p>27068 rows × 10 columns</p>\n",
       "</div>"
      ],
      "text/plain": [
       "     seller_type  bedroom layout_type      property_type          locality  \\\n",
       "0          OWNER      3.0         BHK          Apartment          Ambattur   \n",
       "1          OWNER      2.0         BHK          Apartment       Kelambakkam   \n",
       "2          OWNER      2.0         BHK          Apartment             Adyar   \n",
       "3          OWNER      2.0         BHK          Apartment         Sembakkam   \n",
       "4          OWNER      1.0         BHK  Independent House         Mogappair   \n",
       "...          ...      ...         ...                ...               ...   \n",
       "9893       OWNER      2.0         BHK          Apartment      Netaji Nagar   \n",
       "9894       OWNER      3.0         BHK          Apartment          Rajarhat   \n",
       "9896       OWNER      2.0         BHK          Apartment         Baguihati   \n",
       "9898       OWNER      3.0         BHK  Independent Floor           Shibpur   \n",
       "9899       OWNER      3.0         BHK          Apartment  Kanchrapara Loco   \n",
       "\n",
       "        price    area    furnish_type bathroom  dataset  \n",
       "0     17000.0  1570.0  Semi-Furnished       2   Chennai  \n",
       "1     16000.0  1402.0  Semi-Furnished       2   Chennai  \n",
       "2     20000.0   800.0  Semi-Furnished       2   Chennai  \n",
       "3     14000.0  1180.0     Unfurnished       2   Chennai  \n",
       "4      7000.0   400.0     Unfurnished       1   Chennai  \n",
       "...       ...     ...             ...      ...      ...  \n",
       "9893  13500.0   838.0  Semi-Furnished       2   Kolkata  \n",
       "9894  15000.0  1100.0  Semi-Furnished       2   Kolkata  \n",
       "9896  12000.0   925.0  Semi-Furnished       2   Kolkata  \n",
       "9898   7500.0   960.0     Unfurnished       1   Kolkata  \n",
       "9899  15000.0  1165.0       Furnished       2   Kolkata  \n",
       "\n",
       "[27068 rows x 10 columns]"
      ]
     },
     "execution_count": 115,
     "metadata": {},
     "output_type": "execute_result"
    }
   ],
   "source": [
    "df"
   ]
  },
  {
   "cell_type": "code",
   "execution_count": 116,
   "metadata": {},
   "outputs": [],
   "source": [
    "def analise_preco(coluna):\n",
    "    global df\n",
    "    \n",
    "    dct_retorno = {}    \n",
    "    s_coluna = df[coluna].value_counts()   \n",
    "    \n",
    "    for i in range(len(s_coluna)):\n",
    "        dct_sts = {}\n",
    "        index = s_coluna.index[i]\n",
    "        \n",
    "        \n",
    "        preco = df[df[coluna] == index]['price']\n",
    "        \n",
    "        media = st.mean(preco)\n",
    "        moda = st.mode(preco)\n",
    "        mediana = st.median(preco)\n",
    "        desvio_padrao = st.stdev(preco)\n",
    "        quartis = st.quantiles(preco)\n",
    "                \n",
    "        dct_sts['MEDIA'] = round(media,2)\n",
    "        dct_sts['MODA'] = round(moda,2)\n",
    "        dct_sts['MEDIANA'] = round(mediana,2)\n",
    "        dct_sts['DESVIO PADRAO'] = round(desvio_padrao,2)\n",
    "        dct_sts['QUARTIS'] = quartis  \n",
    "        \n",
    "        #dct_retorno[index] = (dct_sts,preco) \n",
    "        dct_retorno[index] = dct_sts \n",
    "        \n",
    "    \n",
    "    return dct_retorno"
   ]
  },
  {
   "cell_type": "code",
   "execution_count": 117,
   "metadata": {},
   "outputs": [],
   "source": [
    "def analise_desc_num(coluna):\n",
    "    global df\n",
    "    \n",
    "    dct_retorno = {}    \n",
    "    s_coluna = df[coluna].value_counts()\n",
    "      \n",
    "    media = st.mean(s_coluna)\n",
    "    moda = st.mode(s_coluna)\n",
    "    mediana = st.median(s_coluna)\n",
    "    desvio_padrao = st.stdev(s_coluna)\n",
    "    quartis = st.quantiles(s_coluna)\n",
    "    \n",
    "    dct_retorno['MEDIA'] = media\n",
    "    dct_retorno['MODA'] = moda\n",
    "    dct_retorno['MEDIANA'] = mediana\n",
    "    dct_retorno['DESVIO PADRAO'] = desvio_padrao\n",
    "    dct_retorno['QUARTIS'] = quartis    \n",
    "    \n",
    "    return dct_retorno\n",
    "    "
   ]
  },
  {
   "cell_type": "markdown",
   "metadata": {},
   "source": [
    "### Análise individual das colunas"
   ]
  },
  {
   "cell_type": "markdown",
   "metadata": {},
   "source": [
    "#### Coluna - 'seller_type'"
   ]
  },
  {
   "cell_type": "code",
   "execution_count": 118,
   "metadata": {},
   "outputs": [
    {
     "name": "stdout",
     "output_type": "stream",
     "text": [
      "{'MEDIA': 9022.666666666666, 'MODA': 15036, 'MEDIANA': 11906, 'DESVIO PADRAO': 7862.07563772655, 'QUARTIS': [126.0, 11906.0, 15036.0]}\n"
     ]
    },
    {
     "data": {
      "text/plain": [
       "<AxesSubplot: >"
      ]
     },
     "execution_count": 118,
     "metadata": {},
     "output_type": "execute_result"
    },
    {
     "data": {
      "image/png": "[encoded data removed]",
      "text/plain": [
       "<Figure size 640x480 with 1 Axes>"
      ]
     },
     "metadata": {},
     "output_type": "display_data"
    }
   ],
   "source": [
    "coluna_analise = 'seller_type'\n",
    "\n",
    "statis = analise_desc_num(coluna_analise)\n",
    "\n",
    "\n",
    "print(statis)\n",
    "df[coluna_analise].value_counts().plot(kind='bar')"
   ]
  },
  {
   "cell_type": "markdown",
   "metadata": {},
   "source": [
    "#### Coluna - 'layout_type'"
   ]
  },
  {
   "cell_type": "code",
   "execution_count": 119,
   "metadata": {},
   "outputs": [
    {
     "name": "stdout",
     "output_type": "stream",
     "text": [
      "{'MEDIA': 13534, 'MODA': 25851, 'MEDIANA': 13534.0, 'DESVIO PADRAO': 17418.868447749413, 'QUARTIS': [-4941.5, 13534.0, 32009.5]}\n"
     ]
    },
    {
     "data": {
      "text/plain": [
       "<AxesSubplot: >"
      ]
     },
     "execution_count": 119,
     "metadata": {},
     "output_type": "execute_result"
    },
    {
     "data": {
      "image/png": "[encoded data removed]",
      "text/plain": [
       "<Figure size 640x480 with 1 Axes>"
      ]
     },
     "metadata": {},
     "output_type": "display_data"
    }
   ],
   "source": [
    "coluna_analise = 'layout_type'\n",
    "\n",
    "statis = analise_desc_num(coluna_analise)\n",
    "\n",
    "\n",
    "print(statis)\n",
    "df[coluna_analise].value_counts().plot(kind='bar')"
   ]
  },
  {
   "cell_type": "markdown",
   "metadata": {},
   "source": [
    "#### Coluna - 'property_type'"
   ]
  },
  {
   "cell_type": "code",
   "execution_count": 120,
   "metadata": {},
   "outputs": [
    {
     "name": "stdout",
     "output_type": "stream",
     "text": [
      "{'MEDIA': 4511.333333333333, 'MODA': 18288, 'MEDIANA': 2199.5, 'DESVIO PADRAO': 6924.300041640792, 'QUARTIS': [316.5, 2199.5, 7535.25]}\n"
     ]
    },
    {
     "data": {
      "text/plain": [
       "<AxesSubplot: >"
      ]
     },
     "execution_count": 120,
     "metadata": {},
     "output_type": "execute_result"
    },
    {
     "data": {
      "image/png": "[encoded data removed]",
      "text/plain": [
       "<Figure size 640x480 with 1 Axes>"
      ]
     },
     "metadata": {},
     "output_type": "display_data"
    }
   ],
   "source": [
    "coluna_analise = 'property_type'\n",
    "\n",
    "statis = analise_desc_num(coluna_analise)\n",
    "\n",
    "\n",
    "print(statis)\n",
    "df[coluna_analise].value_counts().plot(kind='bar')"
   ]
  },
  {
   "cell_type": "markdown",
   "metadata": {},
   "source": [
    "### Analise do preco por atributo de coluna"
   ]
  },
  {
   "cell_type": "markdown",
   "metadata": {},
   "source": [
    "#### Coluna - 'seller_type'"
   ]
  },
  {
   "cell_type": "code",
   "execution_count": 129,
   "metadata": {},
   "outputs": [
    {
     "name": "stdout",
     "output_type": "stream",
     "text": [
      "{'AGENT': {'MEDIA': 20553.67, 'MODA': 15000.0, 'MEDIANA': 17000.0, 'DESVIO PADRAO': 14917.17, 'QUARTIS': [10000.0, 17000.0, 25000.0]}, 'OWNER': {'MEDIA': 14224.57, 'MODA': 10000.0, 'MEDIANA': 12000.0, 'DESVIO PADRAO': 9795.62, 'QUARTIS': [8000.0, 12000.0, 17000.0]}, 'BUILDER': {'MEDIA': 28069.99, 'MODA': 30000.0, 'MEDIANA': 27500.0, 'DESVIO PADRAO': 18666.77, 'QUARTIS': [11225.0, 27500.0, 42750.0]}}\n"
     ]
    },
    {
     "data": {
      "text/plain": [
       "<AxesSubplot: xlabel='price', ylabel='seller_type'>"
      ]
     },
     "execution_count": 129,
     "metadata": {},
     "output_type": "execute_result"
    },
    {
     "data": {
      "image/png": "[encoded data removed]",
      "text/plain": [
       "<Figure size 640x480 with 1 Axes>"
      ]
     },
     "metadata": {},
     "output_type": "display_data"
    }
   ],
   "source": [
    "coluna_analise = 'seller_type'\n",
    "\n",
    "statis = analise_preco(coluna_analise)\n",
    "print(statis)\n",
    "\n",
    "\n",
    "df.plot(kind='scatter', x='price', y=coluna_analise)"
   ]
  },
  {
   "cell_type": "markdown",
   "metadata": {},
   "source": [
    "#### Coluna - 'layout_type'"
   ]
  },
  {
   "cell_type": "code",
   "execution_count": 130,
   "metadata": {},
   "outputs": [
    {
     "name": "stdout",
     "output_type": "stream",
     "text": [
      "{'BHK': {'MEDIA': 18282.33, 'MODA': 15000.0, 'MEDIANA': 15000.0, 'DESVIO PADRAO': 13380.65, 'QUARTIS': [10000.0, 15000.0, 22000.0]}, 'RK': {'MEDIA': 7660.57, 'MODA': 5000.0, 'MEDIANA': 6000.0, 'DESVIO PADRAO': 6517.32, 'QUARTIS': [5000.0, 6000.0, 8000.0]}}\n"
     ]
    },
    {
     "data": {
      "text/plain": [
       "<AxesSubplot: xlabel='price', ylabel='layout_type'>"
      ]
     },
     "execution_count": 130,
     "metadata": {},
     "output_type": "execute_result"
    },
    {
     "data": {
      "image/png": "[encoded data removed]",
      "text/plain": [
       "<Figure size 640x480 with 1 Axes>"
      ]
     },
     "metadata": {},
     "output_type": "display_data"
    }
   ],
   "source": [
    "coluna_analise = 'layout_type'\n",
    "\n",
    "statis = analise_preco(coluna_analise)\n",
    "print(statis)\n",
    "\n",
    "\n",
    "df.plot(kind='scatter', x='price', y=coluna_analise)"
   ]
  },
  {
   "cell_type": "markdown",
   "metadata": {},
   "source": [
    "#### Coluna - 'property_type'"
   ]
  },
  {
   "cell_type": "code",
   "execution_count": 137,
   "metadata": {},
   "outputs": [
    {
     "name": "stdout",
     "output_type": "stream",
     "text": [
      "{'Apartment': {'MEDIA': 19734.73, 'MODA': 15000.0, 'MEDIANA': 16000.0, 'DESVIO PADRAO': 13349.27, 'QUARTIS': [11000.0, 16000.0, 24507.5]}, 'Independent House': {'MEDIA': 13820.43, 'MODA': 10000.0, 'MEDIANA': 10000.0, 'DESVIO PADRAO': 12523.46, 'QUARTIS': [7000.0, 10000.0, 15000.0]}, 'Independent Floor': {'MEDIA': 14487.46, 'MODA': 10000.0, 'MEDIANA': 12000.0, 'DESVIO PADRAO': 10513.22, 'QUARTIS': [8000.0, 12000.0, 17125.0]}, 'Studio Apartment': {'MEDIA': 7660.57, 'MODA': 5000.0, 'MEDIANA': 6000.0, 'DESVIO PADRAO': 6517.32, 'QUARTIS': [5000.0, 6000.0, 8000.0]}, 'Villa': {'MEDIA': 25877.25, 'MODA': 25000.0, 'MEDIANA': 22000.0, 'DESVIO PADRAO': 22382.34, 'QUARTIS': [9000.0, 22000.0, 35000.0]}, 'Penthouse': {'MEDIA': 15625.0, 'MODA': 13000.0, 'MEDIANA': 11000.0, 'DESVIO PADRAO': 14073.06, 'QUARTIS': [7625.0, 11000.0, 22000.0]}}\n"
     ]
    },
    {
     "data": {
      "text/plain": [
       "<AxesSubplot: xlabel='price', ylabel='property_type'>"
      ]
     },
     "execution_count": 137,
     "metadata": {},
     "output_type": "execute_result"
    },
    {
     "data": {
      "image/png": "[encoded data removed]",
      "text/plain": [
       "<Figure size 640x480 with 1 Axes>"
      ]
     },
     "metadata": {},
     "output_type": "display_data"
    }
   ],
   "source": [
    "coluna_analise = 'property_type'\n",
    "\n",
    "statis = analise_preco(coluna_analise)\n",
    "print(statis)\n",
    "\n",
    "\n",
    "df.plot(kind='scatter', x='price', y=coluna_analise)"
   ]
  }
 ],
 "metadata": {
  "kernelspec": {
   "display_name": "Python 3.10.5 64-bit",
   "language": "python",
   "name": "python3"
  },
  "language_info": {
   "codemirror_mode": {
    "name": "ipython",
    "version": 3
   },
   "file_extension": ".py",
   "mimetype": "text/x-python",
   "name": "python",
   "nbconvert_exporter": "python",
   "pygments_lexer": "ipython3",
   "version": "3.10.5"
  },
  "orig_nbformat": 4,
  "vscode": {
   "interpreter": {
    "hash": "369f2c481f4da34e4445cda3fffd2e751bd1c4d706f27375911949ba6bb62e1c"
   }
  }
 },
 "nbformat": 4,
 "nbformat_minor": 2
}
