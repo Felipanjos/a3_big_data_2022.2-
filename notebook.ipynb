{
 "cells": [
  {
   "cell_type": "code",
   "execution_count": 25,
   "metadata": {},
   "outputs": [],
   "source": [
    "import pandas as pd\n",
    "import numpy as np\n",
    "import statistics as st"
   ]
  },
  {
   "cell_type": "code",
   "execution_count": null,
   "metadata": {
    "tags": []
   },
   "outputs": [],
   "source": [
    "chennai_df = pd.read_csv('Chennai.csv')\n",
    "chennai_df['dataset'] = 'Chennai'\n",
    "\n",
    "hyderabad_df = pd.read_csv('Hyderabad.csv')\n",
    "hyderabad_df['dataset'] = 'Hydebarad'\n",
    "\n",
    "kolkata_df = pd.read_csv('Kolkata.csv')\n",
    "kolkata_df['dataset'] = 'Kolkata'"
   ]
  },
  {
   "cell_type": "code",
   "execution_count": null,
   "metadata": {},
   "outputs": [],
   "source": [
    "chennai_df.head()"
   ]
  },
  {
   "cell_type": "code",
   "execution_count": null,
   "metadata": {},
   "outputs": [],
   "source": [
    "hyderabad_df.head()"
   ]
  },
  {
   "cell_type": "code",
   "execution_count": null,
   "metadata": {},
   "outputs": [],
   "source": [
    "kolkata_df.head()"
   ]
  },
  {
   "cell_type": "code",
   "execution_count": 4,
   "metadata": {},
   "outputs": [],
   "source": [
    "df = pd.concat([chennai_df, hyderabad_df, kolkata_df])"
   ]
  },
  {
   "cell_type": "code",
   "execution_count": 8,
   "metadata": {},
   "outputs": [
    {
     "name": "stdout",
     "output_type": "stream",
     "text": [
      "<class 'pandas.core.frame.DataFrame'>\n",
      "Int64Index: 29940 entries, 0 to 9899\n",
      "Data columns (total 10 columns):\n",
      " #   Column         Non-Null Count  Dtype  \n",
      "---  ------         --------------  -----  \n",
      " 0   seller_type    29456 non-null  object \n",
      " 1   bedroom        29457 non-null  float64\n",
      " 2   layout_type    29457 non-null  object \n",
      " 3   property_type  29940 non-null  object \n",
      " 4   locality       29457 non-null  object \n",
      " 5   price          29457 non-null  object \n",
      " 6   area           29457 non-null  float64\n",
      " 7   furnish_type   29457 non-null  object \n",
      " 8   bathroom       28945 non-null  object \n",
      " 9   dataset        29940 non-null  object \n",
      "dtypes: float64(2), object(8)\n",
      "memory usage: 2.5+ MB\n"
     ]
    }
   ],
   "source": [
    "df.info()"
   ]
  },
  {
   "cell_type": "code",
   "execution_count": 15,
   "metadata": {},
   "outputs": [
    {
     "data": {
      "text/html": [
       "<div>\n",
       "<style scoped>\n",
       "    .dataframe tbody tr th:only-of-type {\n",
       "        vertical-align: middle;\n",
       "    }\n",
       "\n",
       "    .dataframe tbody tr th {\n",
       "        vertical-align: top;\n",
       "    }\n",
       "\n",
       "    .dataframe thead th {\n",
       "        text-align: right;\n",
       "    }\n",
       "</style>\n",
       "<table border=\"1\" class=\"dataframe\">\n",
       "  <thead>\n",
       "    <tr style=\"text-align: right;\">\n",
       "      <th></th>\n",
       "      <th>seller_type</th>\n",
       "      <th>bedroom</th>\n",
       "      <th>layout_type</th>\n",
       "      <th>property_type</th>\n",
       "      <th>locality</th>\n",
       "      <th>price</th>\n",
       "      <th>area</th>\n",
       "      <th>furnish_type</th>\n",
       "      <th>bathroom</th>\n",
       "      <th>dataset</th>\n",
       "    </tr>\n",
       "  </thead>\n",
       "  <tbody>\n",
       "    <tr>\n",
       "      <th>0</th>\n",
       "      <td>OWNER</td>\n",
       "      <td>3.0</td>\n",
       "      <td>BHK</td>\n",
       "      <td>Apartment</td>\n",
       "      <td>Ambattur</td>\n",
       "      <td>17,000</td>\n",
       "      <td>1570.0</td>\n",
       "      <td>Semi-Furnished</td>\n",
       "      <td>2</td>\n",
       "      <td>Chennai</td>\n",
       "    </tr>\n",
       "    <tr>\n",
       "      <th>1</th>\n",
       "      <td>OWNER</td>\n",
       "      <td>2.0</td>\n",
       "      <td>BHK</td>\n",
       "      <td>Apartment</td>\n",
       "      <td>Kelambakkam</td>\n",
       "      <td>16,000</td>\n",
       "      <td>1402.0</td>\n",
       "      <td>Semi-Furnished</td>\n",
       "      <td>2</td>\n",
       "      <td>Chennai</td>\n",
       "    </tr>\n",
       "    <tr>\n",
       "      <th>2</th>\n",
       "      <td>OWNER</td>\n",
       "      <td>2.0</td>\n",
       "      <td>BHK</td>\n",
       "      <td>Apartment</td>\n",
       "      <td>Adyar</td>\n",
       "      <td>20,000</td>\n",
       "      <td>800.0</td>\n",
       "      <td>Semi-Furnished</td>\n",
       "      <td>2</td>\n",
       "      <td>Chennai</td>\n",
       "    </tr>\n",
       "    <tr>\n",
       "      <th>3</th>\n",
       "      <td>OWNER</td>\n",
       "      <td>2.0</td>\n",
       "      <td>BHK</td>\n",
       "      <td>Apartment</td>\n",
       "      <td>Sembakkam</td>\n",
       "      <td>14,000</td>\n",
       "      <td>1180.0</td>\n",
       "      <td>Unfurnished</td>\n",
       "      <td>2</td>\n",
       "      <td>Chennai</td>\n",
       "    </tr>\n",
       "    <tr>\n",
       "      <th>4</th>\n",
       "      <td>OWNER</td>\n",
       "      <td>1.0</td>\n",
       "      <td>BHK</td>\n",
       "      <td>Independent House</td>\n",
       "      <td>Mogappair</td>\n",
       "      <td>7,000</td>\n",
       "      <td>400.0</td>\n",
       "      <td>Unfurnished</td>\n",
       "      <td>1</td>\n",
       "      <td>Chennai</td>\n",
       "    </tr>\n",
       "    <tr>\n",
       "      <th>...</th>\n",
       "      <td>...</td>\n",
       "      <td>...</td>\n",
       "      <td>...</td>\n",
       "      <td>...</td>\n",
       "      <td>...</td>\n",
       "      <td>...</td>\n",
       "      <td>...</td>\n",
       "      <td>...</td>\n",
       "      <td>...</td>\n",
       "      <td>...</td>\n",
       "    </tr>\n",
       "    <tr>\n",
       "      <th>9893</th>\n",
       "      <td>OWNER</td>\n",
       "      <td>2.0</td>\n",
       "      <td>BHK</td>\n",
       "      <td>Apartment</td>\n",
       "      <td>Netaji Nagar</td>\n",
       "      <td>13,500</td>\n",
       "      <td>838.0</td>\n",
       "      <td>Semi-Furnished</td>\n",
       "      <td>2</td>\n",
       "      <td>Kolkata</td>\n",
       "    </tr>\n",
       "    <tr>\n",
       "      <th>9894</th>\n",
       "      <td>OWNER</td>\n",
       "      <td>3.0</td>\n",
       "      <td>BHK</td>\n",
       "      <td>Apartment</td>\n",
       "      <td>Rajarhat</td>\n",
       "      <td>15,000</td>\n",
       "      <td>1100.0</td>\n",
       "      <td>Semi-Furnished</td>\n",
       "      <td>2</td>\n",
       "      <td>Kolkata</td>\n",
       "    </tr>\n",
       "    <tr>\n",
       "      <th>9896</th>\n",
       "      <td>OWNER</td>\n",
       "      <td>2.0</td>\n",
       "      <td>BHK</td>\n",
       "      <td>Apartment</td>\n",
       "      <td>Baguihati</td>\n",
       "      <td>12,000</td>\n",
       "      <td>925.0</td>\n",
       "      <td>Semi-Furnished</td>\n",
       "      <td>2</td>\n",
       "      <td>Kolkata</td>\n",
       "    </tr>\n",
       "    <tr>\n",
       "      <th>9898</th>\n",
       "      <td>OWNER</td>\n",
       "      <td>3.0</td>\n",
       "      <td>BHK</td>\n",
       "      <td>Independent Floor</td>\n",
       "      <td>Shibpur</td>\n",
       "      <td>7,500</td>\n",
       "      <td>960.0</td>\n",
       "      <td>Unfurnished</td>\n",
       "      <td>1</td>\n",
       "      <td>Kolkata</td>\n",
       "    </tr>\n",
       "    <tr>\n",
       "      <th>9899</th>\n",
       "      <td>OWNER</td>\n",
       "      <td>3.0</td>\n",
       "      <td>BHK</td>\n",
       "      <td>Apartment</td>\n",
       "      <td>Kanchrapara Loco</td>\n",
       "      <td>15,000</td>\n",
       "      <td>1165.0</td>\n",
       "      <td>Furnished</td>\n",
       "      <td>2</td>\n",
       "      <td>Kolkata</td>\n",
       "    </tr>\n",
       "  </tbody>\n",
       "</table>\n",
       "<p>27068 rows × 10 columns</p>\n",
       "</div>"
      ],
      "text/plain": [
       "     seller_type  bedroom layout_type      property_type          locality  \\\n",
       "0          OWNER      3.0         BHK          Apartment          Ambattur   \n",
       "1          OWNER      2.0         BHK          Apartment       Kelambakkam   \n",
       "2          OWNER      2.0         BHK          Apartment             Adyar   \n",
       "3          OWNER      2.0         BHK          Apartment         Sembakkam   \n",
       "4          OWNER      1.0         BHK  Independent House         Mogappair   \n",
       "...          ...      ...         ...                ...               ...   \n",
       "9893       OWNER      2.0         BHK          Apartment      Netaji Nagar   \n",
       "9894       OWNER      3.0         BHK          Apartment          Rajarhat   \n",
       "9896       OWNER      2.0         BHK          Apartment         Baguihati   \n",
       "9898       OWNER      3.0         BHK  Independent Floor           Shibpur   \n",
       "9899       OWNER      3.0         BHK          Apartment  Kanchrapara Loco   \n",
       "\n",
       "       price    area    furnish_type bathroom  dataset  \n",
       "0     17,000  1570.0  Semi-Furnished       2   Chennai  \n",
       "1     16,000  1402.0  Semi-Furnished       2   Chennai  \n",
       "2     20,000   800.0  Semi-Furnished       2   Chennai  \n",
       "3     14,000  1180.0     Unfurnished       2   Chennai  \n",
       "4      7,000   400.0     Unfurnished       1   Chennai  \n",
       "...      ...     ...             ...      ...      ...  \n",
       "9893  13,500   838.0  Semi-Furnished       2   Kolkata  \n",
       "9894  15,000  1100.0  Semi-Furnished       2   Kolkata  \n",
       "9896  12,000   925.0  Semi-Furnished       2   Kolkata  \n",
       "9898   7,500   960.0     Unfurnished       1   Kolkata  \n",
       "9899  15,000  1165.0       Furnished       2   Kolkata  \n",
       "\n",
       "[27068 rows x 10 columns]"
      ]
     },
     "execution_count": 15,
     "metadata": {},
     "output_type": "execute_result"
    }
   ],
   "source": [
    "df"
   ]
  },
  {
   "cell_type": "code",
   "execution_count": 7,
   "metadata": {},
   "outputs": [],
   "source": [
    "df['property_type'] = df['property_type'].astype(str)"
   ]
  },
  {
   "cell_type": "code",
   "execution_count": 10,
   "metadata": {},
   "outputs": [],
   "source": [
    "df['bathroom'] = df['bathroom'].str.replace('bathrooms', '')"
   ]
  },
  {
   "cell_type": "markdown",
   "metadata": {},
   "source": [
    "### Apaga todos os registros que tem valores nulos"
   ]
  },
  {
   "cell_type": "code",
   "execution_count": 9,
   "metadata": {},
   "outputs": [],
   "source": [
    "def drop_null_rows(columns):\n",
    "    for column in columns:\n",
    "        df.drop(df[df[column].isnull()].index.tolist(), axis=0, inplace=True)"
   ]
  },
  {
   "cell_type": "code",
   "execution_count": 11,
   "metadata": {},
   "outputs": [],
   "source": [
    "drop_null_rows(list(df.columns))"
   ]
  },
  {
   "cell_type": "markdown",
   "metadata": {},
   "source": [
    "### Análise numérica de estatísticas descritivas"
   ]
  },
  {
   "cell_type": "code",
   "execution_count": 19,
   "metadata": {},
   "outputs": [
    {
     "data": {
      "text/html": [
       "<div>\n",
       "<style scoped>\n",
       "    .dataframe tbody tr th:only-of-type {\n",
       "        vertical-align: middle;\n",
       "    }\n",
       "\n",
       "    .dataframe tbody tr th {\n",
       "        vertical-align: top;\n",
       "    }\n",
       "\n",
       "    .dataframe thead th {\n",
       "        text-align: right;\n",
       "    }\n",
       "</style>\n",
       "<table border=\"1\" class=\"dataframe\">\n",
       "  <thead>\n",
       "    <tr style=\"text-align: right;\">\n",
       "      <th></th>\n",
       "      <th>seller_type</th>\n",
       "      <th>bedroom</th>\n",
       "      <th>layout_type</th>\n",
       "      <th>property_type</th>\n",
       "      <th>locality</th>\n",
       "      <th>price</th>\n",
       "      <th>area</th>\n",
       "      <th>furnish_type</th>\n",
       "      <th>bathroom</th>\n",
       "      <th>dataset</th>\n",
       "    </tr>\n",
       "  </thead>\n",
       "  <tbody>\n",
       "    <tr>\n",
       "      <th>0</th>\n",
       "      <td>OWNER</td>\n",
       "      <td>3.0</td>\n",
       "      <td>BHK</td>\n",
       "      <td>Apartment</td>\n",
       "      <td>Ambattur</td>\n",
       "      <td>17,000</td>\n",
       "      <td>1570.0</td>\n",
       "      <td>Semi-Furnished</td>\n",
       "      <td>2</td>\n",
       "      <td>Chennai</td>\n",
       "    </tr>\n",
       "    <tr>\n",
       "      <th>1</th>\n",
       "      <td>OWNER</td>\n",
       "      <td>2.0</td>\n",
       "      <td>BHK</td>\n",
       "      <td>Apartment</td>\n",
       "      <td>Kelambakkam</td>\n",
       "      <td>16,000</td>\n",
       "      <td>1402.0</td>\n",
       "      <td>Semi-Furnished</td>\n",
       "      <td>2</td>\n",
       "      <td>Chennai</td>\n",
       "    </tr>\n",
       "    <tr>\n",
       "      <th>2</th>\n",
       "      <td>OWNER</td>\n",
       "      <td>2.0</td>\n",
       "      <td>BHK</td>\n",
       "      <td>Apartment</td>\n",
       "      <td>Adyar</td>\n",
       "      <td>20,000</td>\n",
       "      <td>800.0</td>\n",
       "      <td>Semi-Furnished</td>\n",
       "      <td>2</td>\n",
       "      <td>Chennai</td>\n",
       "    </tr>\n",
       "    <tr>\n",
       "      <th>3</th>\n",
       "      <td>OWNER</td>\n",
       "      <td>2.0</td>\n",
       "      <td>BHK</td>\n",
       "      <td>Apartment</td>\n",
       "      <td>Sembakkam</td>\n",
       "      <td>14,000</td>\n",
       "      <td>1180.0</td>\n",
       "      <td>Unfurnished</td>\n",
       "      <td>2</td>\n",
       "      <td>Chennai</td>\n",
       "    </tr>\n",
       "    <tr>\n",
       "      <th>4</th>\n",
       "      <td>OWNER</td>\n",
       "      <td>1.0</td>\n",
       "      <td>BHK</td>\n",
       "      <td>Independent House</td>\n",
       "      <td>Mogappair</td>\n",
       "      <td>7,000</td>\n",
       "      <td>400.0</td>\n",
       "      <td>Unfurnished</td>\n",
       "      <td>1</td>\n",
       "      <td>Chennai</td>\n",
       "    </tr>\n",
       "    <tr>\n",
       "      <th>...</th>\n",
       "      <td>...</td>\n",
       "      <td>...</td>\n",
       "      <td>...</td>\n",
       "      <td>...</td>\n",
       "      <td>...</td>\n",
       "      <td>...</td>\n",
       "      <td>...</td>\n",
       "      <td>...</td>\n",
       "      <td>...</td>\n",
       "      <td>...</td>\n",
       "    </tr>\n",
       "    <tr>\n",
       "      <th>9893</th>\n",
       "      <td>OWNER</td>\n",
       "      <td>2.0</td>\n",
       "      <td>BHK</td>\n",
       "      <td>Apartment</td>\n",
       "      <td>Netaji Nagar</td>\n",
       "      <td>13,500</td>\n",
       "      <td>838.0</td>\n",
       "      <td>Semi-Furnished</td>\n",
       "      <td>2</td>\n",
       "      <td>Kolkata</td>\n",
       "    </tr>\n",
       "    <tr>\n",
       "      <th>9894</th>\n",
       "      <td>OWNER</td>\n",
       "      <td>3.0</td>\n",
       "      <td>BHK</td>\n",
       "      <td>Apartment</td>\n",
       "      <td>Rajarhat</td>\n",
       "      <td>15,000</td>\n",
       "      <td>1100.0</td>\n",
       "      <td>Semi-Furnished</td>\n",
       "      <td>2</td>\n",
       "      <td>Kolkata</td>\n",
       "    </tr>\n",
       "    <tr>\n",
       "      <th>9896</th>\n",
       "      <td>OWNER</td>\n",
       "      <td>2.0</td>\n",
       "      <td>BHK</td>\n",
       "      <td>Apartment</td>\n",
       "      <td>Baguihati</td>\n",
       "      <td>12,000</td>\n",
       "      <td>925.0</td>\n",
       "      <td>Semi-Furnished</td>\n",
       "      <td>2</td>\n",
       "      <td>Kolkata</td>\n",
       "    </tr>\n",
       "    <tr>\n",
       "      <th>9898</th>\n",
       "      <td>OWNER</td>\n",
       "      <td>3.0</td>\n",
       "      <td>BHK</td>\n",
       "      <td>Independent Floor</td>\n",
       "      <td>Shibpur</td>\n",
       "      <td>7,500</td>\n",
       "      <td>960.0</td>\n",
       "      <td>Unfurnished</td>\n",
       "      <td>1</td>\n",
       "      <td>Kolkata</td>\n",
       "    </tr>\n",
       "    <tr>\n",
       "      <th>9899</th>\n",
       "      <td>OWNER</td>\n",
       "      <td>3.0</td>\n",
       "      <td>BHK</td>\n",
       "      <td>Apartment</td>\n",
       "      <td>Kanchrapara Loco</td>\n",
       "      <td>15,000</td>\n",
       "      <td>1165.0</td>\n",
       "      <td>Furnished</td>\n",
       "      <td>2</td>\n",
       "      <td>Kolkata</td>\n",
       "    </tr>\n",
       "  </tbody>\n",
       "</table>\n",
       "<p>27068 rows × 10 columns</p>\n",
       "</div>"
      ],
      "text/plain": [
       "     seller_type  bedroom layout_type      property_type          locality  \\\n",
       "0          OWNER      3.0         BHK          Apartment          Ambattur   \n",
       "1          OWNER      2.0         BHK          Apartment       Kelambakkam   \n",
       "2          OWNER      2.0         BHK          Apartment             Adyar   \n",
       "3          OWNER      2.0         BHK          Apartment         Sembakkam   \n",
       "4          OWNER      1.0         BHK  Independent House         Mogappair   \n",
       "...          ...      ...         ...                ...               ...   \n",
       "9893       OWNER      2.0         BHK          Apartment      Netaji Nagar   \n",
       "9894       OWNER      3.0         BHK          Apartment          Rajarhat   \n",
       "9896       OWNER      2.0         BHK          Apartment         Baguihati   \n",
       "9898       OWNER      3.0         BHK  Independent Floor           Shibpur   \n",
       "9899       OWNER      3.0         BHK          Apartment  Kanchrapara Loco   \n",
       "\n",
       "       price    area    furnish_type bathroom  dataset  \n",
       "0     17,000  1570.0  Semi-Furnished       2   Chennai  \n",
       "1     16,000  1402.0  Semi-Furnished       2   Chennai  \n",
       "2     20,000   800.0  Semi-Furnished       2   Chennai  \n",
       "3     14,000  1180.0     Unfurnished       2   Chennai  \n",
       "4      7,000   400.0     Unfurnished       1   Chennai  \n",
       "...      ...     ...             ...      ...      ...  \n",
       "9893  13,500   838.0  Semi-Furnished       2   Kolkata  \n",
       "9894  15,000  1100.0  Semi-Furnished       2   Kolkata  \n",
       "9896  12,000   925.0  Semi-Furnished       2   Kolkata  \n",
       "9898   7,500   960.0     Unfurnished       1   Kolkata  \n",
       "9899  15,000  1165.0       Furnished       2   Kolkata  \n",
       "\n",
       "[27068 rows x 10 columns]"
      ]
     },
     "execution_count": 19,
     "metadata": {},
     "output_type": "execute_result"
    }
   ],
   "source": [
    "df"
   ]
  },
  {
   "cell_type": "code",
   "execution_count": 37,
   "metadata": {},
   "outputs": [],
   "source": [
    "def analise_desc_num(coluna):\n",
    "    global df\n",
    "    \n",
    "    dct_retorno = {}    \n",
    "    s_coluna = df[coluna].value_counts()\n",
    "    \n",
    "    media = st.mean(s_coluna)\n",
    "    moda = st.mode(s_coluna)\n",
    "    mediana = st.median(s_coluna)\n",
    "    desvio_padrao = st.stdev(s_coluna)\n",
    "    quartis = st.quantiles(s_coluna)\n",
    "    \n",
    "    dct_retorno['MEDIA'] = media\n",
    "    dct_retorno['MODA'] = moda\n",
    "    dct_retorno['MEDIANA'] = mediana\n",
    "    dct_retorno['DESVIO PADRAO'] = desvio_padrao\n",
    "    dct_retorno['QUARTIS'] = quartis    \n",
    "    \n",
    "    return dct_retorno\n",
    "    "
   ]
  },
  {
   "cell_type": "markdown",
   "metadata": {},
   "source": [
    "#### Coluna - 'seller_type'"
   ]
  },
  {
   "cell_type": "code",
   "execution_count": 38,
   "metadata": {},
   "outputs": [
    {
     "name": "stdout",
     "output_type": "stream",
     "text": [
      "{'MEDIA': 9022.666666666666, 'MODA': 15036, 'MEDIANA': 11906, 'DESVIO PADRAO': 7862.07563772655, 'QUARTIS': [126.0, 11906.0, 15036.0]}\n"
     ]
    },
    {
     "data": {
      "text/plain": [
       "<AxesSubplot: >"
      ]
     },
     "execution_count": 38,
     "metadata": {},
     "output_type": "execute_result"
    },
    {
     "data": {
      "image/png": "[encoded data removed]",
      "text/plain": [
       "<Figure size 640x480 with 1 Axes>"
      ]
     },
     "metadata": {},
     "output_type": "display_data"
    }
   ],
   "source": [
    "coluna_analise = 'seller_type'\n",
    "\n",
    "statis = analise_desc_num(coluna_analise)\n",
    "\n",
    "\n",
    "print(statis)\n",
    "df[coluna_analise].value_counts().plot(kind='bar')"
   ]
  },
  {
   "cell_type": "markdown",
   "metadata": {},
   "source": [
    "#### Coluna - 'layout_type'"
   ]
  },
  {
   "cell_type": "code",
   "execution_count": 39,
   "metadata": {},
   "outputs": [
    {
     "name": "stdout",
     "output_type": "stream",
     "text": [
      "{'MEDIA': 13534, 'MODA': 25851, 'MEDIANA': 13534.0, 'DESVIO PADRAO': 17418.868447749413, 'QUARTIS': [-4941.5, 13534.0, 32009.5]}\n"
     ]
    },
    {
     "data": {
      "text/plain": [
       "<AxesSubplot: >"
      ]
     },
     "execution_count": 39,
     "metadata": {},
     "output_type": "execute_result"
    },
    {
     "data": {
      "image/png": "[encoded data removed]",
      "text/plain": [
       "<Figure size 640x480 with 1 Axes>"
      ]
     },
     "metadata": {},
     "output_type": "display_data"
    }
   ],
   "source": [
    "coluna_analise = 'layout_type'\n",
    "\n",
    "statis = analise_desc_num(coluna_analise)\n",
    "\n",
    "\n",
    "print(statis)\n",
    "df[coluna_analise].value_counts().plot(kind='bar')"
   ]
  },
  {
   "cell_type": "markdown",
   "metadata": {},
   "source": [
    "#### Coluna - 'property_type'"
   ]
  },
  {
   "cell_type": "code",
   "execution_count": 41,
   "metadata": {},
   "outputs": [
    {
     "name": "stdout",
     "output_type": "stream",
     "text": [
      "{'MEDIA': 4511.333333333333, 'MODA': 18288, 'MEDIANA': 2199.5, 'DESVIO PADRAO': 6924.300041640792, 'QUARTIS': [316.5, 2199.5, 7535.25]}\n"
     ]
    },
    {
     "data": {
      "text/plain": [
       "<AxesSubplot: >"
      ]
     },
     "execution_count": 41,
     "metadata": {},
     "output_type": "execute_result"
    },
    {
     "data": {
      "image/png": "[encoded data removed]",
      "text/plain": [
       "<Figure size 640x480 with 1 Axes>"
      ]
     },
     "metadata": {},
     "output_type": "display_data"
    }
   ],
   "source": [
    "coluna_analise = 'property_type'\n",
    "\n",
    "statis = analise_desc_num(coluna_analise)\n",
    "\n",
    "\n",
    "print(statis)\n",
    "df[coluna_analise].value_counts().plot(kind='bar')"
   ]
  }
 ],
 "metadata": {
  "kernelspec": {
   "display_name": "Python 3.10.5 64-bit",
   "language": "python",
   "name": "python3"
  },
  "language_info": {
   "codemirror_mode": {
    "name": "ipython",
    "version": 3
   },
   "file_extension": ".py",
   "mimetype": "text/x-python",
   "name": "python",
   "nbconvert_exporter": "python",
   "pygments_lexer": "ipython3",
   "version": "3.10.5"
  },
  "orig_nbformat": 4,
  "vscode": {
   "interpreter": {
    "hash": "369f2c481f4da34e4445cda3fffd2e751bd1c4d706f27375911949ba6bb62e1c"
   }
  }
 },
 "nbformat": 4,
 "nbformat_minor": 2
}
