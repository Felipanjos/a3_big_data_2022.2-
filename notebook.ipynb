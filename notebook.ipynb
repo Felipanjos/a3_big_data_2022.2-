{
 "cells": [
  {
   "cell_type": "code",
   "execution_count": 32,
   "metadata": {},
   "outputs": [],
   "source": [
    "import pandas as pd"
   ]
  },
  {
   "cell_type": "code",
   "execution_count": 51,
   "metadata": {},
   "outputs": [],
   "source": [
    "chennai_df = pd.read_csv('Chennai.csv')\n",
    "chennai_df['dataset'] = 'Chennai'\n",
    "\n",
    "hyderabad_df = pd.read_csv('Hyderabad.csv')\n",
    "hyderabad_df['dataset'] = 'Hydebarad'\n",
    "\n",
    "kolkata_df = pd.read_csv('Kolkata.csv')\n",
    "kolkata_df['dataset'] = 'Kolkata'"
   ]
  }
 ],
 "metadata": {
  "kernelspec": {
   "display_name": "Python 3.10.8 64-bit (microsoft store)",
   "language": "python",
   "name": "python3"
  },
  "language_info": {
   "codemirror_mode": {
    "name": "ipython",
    "version": 3
   },
   "file_extension": ".py",
   "mimetype": "text/x-python",
   "name": "python",
   "nbconvert_exporter": "python",
   "pygments_lexer": "ipython3",
   "version": "3.10.8"
  },
  "orig_nbformat": 4,
  "vscode": {
   "interpreter": {
    "hash": "1411826be7eae97a21cd32c3ad68577137fa7ead80dc4d38e556535e3b8866d8"
   }
  }
 },
 "nbformat": 4,
 "nbformat_minor": 2
}
